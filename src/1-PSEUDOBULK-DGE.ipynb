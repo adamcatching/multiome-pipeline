{
 "cells": [
  {
   "cell_type": "markdown",
   "metadata": {},
   "source": [
    "STARTED:      2/26/25\n",
    "\n",
    "LAST UPDATED: 3/4/25\n",
    "\n",
    "By Eugene Fong\n",
    "\n",
    "# GOAL(S)\n",
    "\n",
    "- Pseudobulk on the SN data\n",
    "\n",
    "# #* TODO\n",
    "\n",
    "XYLENA: \n",
    "- pseudobulk each category (young/old) then run w/the tools Adam used\n",
    "- avg's expression of each cell type in each sample\n",
    "- should have a tool in scanpy\n",
    "- also in Adam's pipeline\n",
    "\n",
    "ADAM\n",
    "- break up the adata obj into indiv clusters by cell type for the trajectory analysis\n",
    "- redo the DGE by cell type, \n",
    "- use the leiden_2 cluster\n",
    "\n",
    "Pseudo-bulking = collapsing into counts the mean expression for that sample\n",
    "- sum is better for genes that are lowly expressed by highly variable betw samples\n",
    "- mean is better for genes that are highly expressed genes\n",
    "\n",
    "Lit review on pseudotime and trajectory analysis tools, run by some suggestions by Xylena before starting on one\n",
    "\n",
    "# IMPORTS"
   ]
  },
  {
   "cell_type": "code",
   "execution_count": 1,
   "metadata": {},
   "outputs": [],
   "source": [
    "# import numpy as np\n",
    "# import os\n",
    "# import pandas as pd\n",
    "# import anndata as ad\n",
    "# import scanpy as sc\n",
    "# import matplotlib.pyplot as plt\n",
    "# import seaborn as sns"
   ]
  },
  {
   "cell_type": "markdown",
   "metadata": {},
   "source": [
    "# LOAD DATA\n",
    "\n",
    "### DEFINE PATHS"
   ]
  },
  {
   "cell_type": "code",
   "execution_count": 2,
   "metadata": {},
   "outputs": [],
   "source": [
    "# INPUT - my mod'ed .h5ad file\n",
    "input_file = '/vf/users/CARD_singlecell/SN_control_atlas/multiome-pipeline/src/output/05_annotated_anndata_rna-ef-rank_genes_groups.h5ad'"
   ]
  },
  {
   "cell_type": "code",
   "execution_count": 3,
   "metadata": {},
   "outputs": [],
   "source": [
    "# # OUTPUT - file path for my testing, base on the original file name\n",
    "# output_file = os.path.join('output', os.path.basename(input_file).replace('.h5ad', '-ef-rank_genes_groups.h5ad'))\n",
    "# print('output_file =', output_file)"
   ]
  },
  {
   "cell_type": "markdown",
   "metadata": {},
   "source": [
    "# PSEUDOBULK + DGE\n",
    "\n",
    "#* TODO\n",
    "\n",
    "- run Adam's updated rna_DGE.py script in JNB (copy and paste?)\n",
    "- will need to edit some of the variables\n",
    "- read up on DESEQ2 and Decouplr\n",
    "\n",
    "Can figure out how ot pull GH properly laterrrr\n",
    "\n",
    "### REFS: \n",
    "\n",
    "- Adam's DGE snakemake rule\n",
    "- Pseudo-bulk: [https://decoupler-py.readthedocs.io/en/latest/notebooks/pseudobulk.html](https://decoupler-py.readthedocs.io/en/latest/notebooks/pseudobulk.html)\n",
    "- DESeq2 (original in R): [https://bioconductor.org/packages/release/bioc/html/DESeq2.html](https://bioconductor.org/packages/release/bioc/html/DESeq2.html)\n",
    "- PyDESeq2 (Python vers): [https://pydeseq2.readthedocs.io/en/stable/](https://pydeseq2.readthedocs.io/en/stable/)"
   ]
  },
  {
   "cell_type": "markdown",
   "metadata": {},
   "source": [
    "# INSTALLS  "
   ]
  },
  {
   "cell_type": "code",
   "execution_count": 4,
   "metadata": {},
   "outputs": [],
   "source": [
    "# %pip install pydeseq2"
   ]
  },
  {
   "cell_type": "markdown",
   "metadata": {},
   "source": [
    "SOURCE: Adam's `rna_DGE.py` snakemake rule\n",
    "\n",
    "# IMPORTS"
   ]
  },
  {
   "cell_type": "code",
   "execution_count": 5,
   "metadata": {},
   "outputs": [
    {
     "name": "stderr",
     "output_type": "stream",
     "text": [
      "/data/fonge2/conda/lib/python3.10/site-packages/anndata/utils.py:429: FutureWarning: Importing read_csv from `anndata` is deprecated. Import anndata.io.read_csv instead.\n",
      "  warnings.warn(msg, FutureWarning)\n",
      "/data/fonge2/conda/lib/python3.10/site-packages/anndata/utils.py:429: FutureWarning: Importing read_excel from `anndata` is deprecated. Import anndata.io.read_excel instead.\n",
      "  warnings.warn(msg, FutureWarning)\n",
      "/data/fonge2/conda/lib/python3.10/site-packages/anndata/utils.py:429: FutureWarning: Importing read_hdf from `anndata` is deprecated. Import anndata.io.read_hdf instead.\n",
      "  warnings.warn(msg, FutureWarning)\n",
      "/data/fonge2/conda/lib/python3.10/site-packages/anndata/utils.py:429: FutureWarning: Importing read_loom from `anndata` is deprecated. Import anndata.io.read_loom instead.\n",
      "  warnings.warn(msg, FutureWarning)\n",
      "/data/fonge2/conda/lib/python3.10/site-packages/anndata/utils.py:429: FutureWarning: Importing read_mtx from `anndata` is deprecated. Import anndata.io.read_mtx instead.\n",
      "  warnings.warn(msg, FutureWarning)\n",
      "/data/fonge2/conda/lib/python3.10/site-packages/anndata/utils.py:429: FutureWarning: Importing read_text from `anndata` is deprecated. Import anndata.io.read_text instead.\n",
      "  warnings.warn(msg, FutureWarning)\n",
      "/data/fonge2/conda/lib/python3.10/site-packages/anndata/utils.py:429: FutureWarning: Importing read_umi_tools from `anndata` is deprecated. Import anndata.io.read_umi_tools instead.\n",
      "  warnings.warn(msg, FutureWarning)\n"
     ]
    }
   ],
   "source": [
    "import anndata as ad\n",
    "import scipy\n",
    "import pandas as pd\n",
    "import matplotlib.pyplot as plt\n",
    "import seaborn as sns\n",
    "import numpy as np\n",
    "import scanpy as sc\n",
    "import decoupler as dc\n",
    "from pydeseq2.dds import DeseqDataSet, DefaultInference\n",
    "from pydeseq2.ds import DeseqStats\n",
    "import pprint"
   ]
  },
  {
   "cell_type": "markdown",
   "metadata": {},
   "source": [
    "# LOAD DATA"
   ]
  },
  {
   "cell_type": "code",
   "execution_count": 6,
   "metadata": {},
   "outputs": [],
   "source": [
    "# # Open RNA\n",
    "# adata = sc.read_h5ad(snakemake.input.rna_anndata)\n",
    "adata = sc.read_h5ad(input_file)"
   ]
  },
  {
   "cell_type": "code",
   "execution_count": 7,
   "metadata": {},
   "outputs": [
    {
     "name": "stdout",
     "output_type": "stream",
     "text": [
      "AnnData object with n_obs × n_vars = 477356 × 35633\n",
      "    obs: 'n_genes_by_counts', 'total_counts', 'total_counts_rb', 'pct_counts_rb', 'total_counts_mt', 'pct_counts_mt', 'doublet_score', 'cell_barcode', 'batch', 'sex', 'age', 'pmi', 'ethnicity', 'race', 'brain_bank', 'homogenization', 'library', 'seq', 'sample', 'short diagnosis', 'S_score', 'G2M_score', 'phase', 'n_counts', 'atlas_identifier', 'leiden_2', 'leiden', 'leiden_05', 'cell_type', 'age_old', 'age_bin', 'log1p_n_genes_by_counts', 'log1p_total_counts', 'pct_counts_in_top_50_genes', 'pct_counts_in_top_100_genes', 'pct_counts_in_top_200_genes', 'pct_counts_in_top_500_genes', 'log1p_total_counts_mt', 'total_counts_ribo', 'log1p_total_counts_ribo', 'pct_counts_ribo'\n",
      "    var: 'n_cells', 'highly_variable', 'means', 'dispersions', 'dispersions_norm', 'highly_variable_nbatches', 'highly_variable_intersection', 'mt', 'rb', 'ribo', 'n_cells_by_counts', 'mean_counts', 'log1p_mean_counts', 'pct_dropout_by_counts', 'total_counts', 'log1p_total_counts'\n",
      "    uns: 'age_bin_colors', 'age_old_colors', 'cell_type_colors', 'hvg', 'leiden', 'neighbors', 'rank_genes_groups', 'umap'\n",
      "    obsm: 'X_pca', 'X_scvi', 'X_umap', 'ora_estimate', 'ora_pvals'\n",
      "    layers: 'counts', 'cpm', 'data'\n",
      "    obsp: 'connectivities', 'distances'\n"
     ]
    }
   ],
   "source": [
    "# CHECK\n",
    "pprint.pprint(adata)"
   ]
  },
  {
   "cell_type": "markdown",
   "metadata": {},
   "source": [
    "# DEFINE VARIABLES"
   ]
  },
  {
   "cell_type": "code",
   "execution_count": 8,
   "metadata": {},
   "outputs": [
    {
     "name": "stdout",
     "output_type": "stream",
     "text": [
      "cell_types = ['DaN', 'ExN', 'EC', 'Oligo', 'Astro', 'OPC', 'PC', 'MG', 'InN', 'TC']\n",
      "cell_types[0] = DaN\n"
     ]
    }
   ],
   "source": [
    "# # Define the cell types to look for\n",
    "# cell_types = ['Astro', 'DaN', 'ExN', 'EC', 'InN', 'MG', 'OPC', 'Oligo', 'PC', 'TC']\n",
    "\n",
    "# EXTRACT - cell types from the unique values in the 'cell_type' column\n",
    "cell_types = list(adata.obs['cell_type'].unique())\n",
    "print('cell_types =', cell_types)\n",
    "print('cell_types[0] =', cell_types[0])"
   ]
  },
  {
   "cell_type": "code",
   "execution_count": null,
   "metadata": {},
   "outputs": [
    {
     "name": "stdout",
     "output_type": "stream",
     "text": [
      "young = ['young (< 57.9)']\n",
      "old = ['old (>= 57.9)']\n"
     ]
    }
   ],
   "source": [
    "# # # Define disease states\n",
    "\n",
    "# EXTRACT - the control and disease states from the unique values in the 'age_bin' column\n",
    "col_of_interest = 'age_bin'\n",
    "young = list(adata.obs[col_of_interest].unique())[0:1]\n",
    "old = list(adata.obs[col_of_interest].unique())[1:]\n",
    "\n",
    "# CHECK\n",
    "print('young =', young)\n",
    "print('old =', old)"
   ]
  },
  {
   "cell_type": "code",
   "execution_count": null,
   "metadata": {},
   "outputs": [],
   "source": [
    "# #* TODO - as a for loop?\n",
    "# # Read in parameters\n",
    "# cell_type       = snakemake.params.cell_type\n",
    "# disease_name    = snakemake.params.disease\n",
    "# control_name    = snakemake.params.control"
   ]
  },
  {
   "cell_type": "code",
   "execution_count": null,
   "metadata": {},
   "outputs": [
    {
     "name": "stdout",
     "output_type": "stream",
     "text": [
      "cell_type = DaN\n",
      "cell_type = ExN\n",
      "cell_type = EC\n",
      "cell_type = Oligo\n",
      "cell_type = Astro\n",
      "cell_type = OPC\n",
      "cell_type = PC\n",
      "cell_type = MG\n",
      "cell_type = InN\n",
      "cell_type = TC\n"
     ]
    }
   ],
   "source": [
    "# # SUBSET - the data for the cell type\n",
    "# adata = adata[adata.obs['cell_type'] == cell_type].copy()\n",
    "\n",
    "for cell_type in cell_types:\n",
    "    print('cell_type =', cell_type)\n",
    "    # adata = adata[adata.obs['cell_type'] == cell_type].copy()"
   ]
  },
  {
   "cell_type": "code",
   "execution_count": null,
   "metadata": {},
   "outputs": [],
   "source": [
    "# # DEBUG - then delete\n",
    "# print('cell_type =', cell_type)\n",
    "# print('cell_types[0] =', cell_types[0])\n",
    "\n",
    "# # TEST\n",
    "# adata[adata.obs['cell_type'] == cell_types[0]].copy()"
   ]
  },
  {
   "cell_type": "code",
   "execution_count": 15,
   "metadata": {},
   "outputs": [
    {
     "data": {
      "text/plain": [
       "GCACGAACAATGAATG-1_890         DaN\n",
       "CCACAATAGTCAGGCC-1_890         ExN\n",
       "CTGCAATAGTGTTGCG-1_890         ExN\n",
       "GAGTGAGGTCATGAGC-1_890         DaN\n",
       "GCTCAACCAGCATGTC-1_890          EC\n",
       "                             ...  \n",
       "ATTTAGGTCATAACCA-1_SP5256       PC\n",
       "GCTAAGAAGGCAATAG-1_SP5256    Oligo\n",
       "AGCCTAGTCCTCATCA-1_SP5256    Oligo\n",
       "AGCAAGGGTGGATTGC-1_SP5256       PC\n",
       "CACATGCCAGTCTATG-1_SP5256    Astro\n",
       "Name: cell_type, Length: 477356, dtype: category\n",
       "Categories (10, object): ['Astro', 'DaN', 'EC', 'ExN', ..., 'OPC', 'Oligo', 'PC', 'TC']"
      ]
     },
     "execution_count": 15,
     "metadata": {},
     "output_type": "execute_result"
    }
   ],
   "source": [
    "# CHECK\n",
    "adata.obs['cell_type']"
   ]
  },
  {
   "cell_type": "code",
   "execution_count": 16,
   "metadata": {},
   "outputs": [
    {
     "data": {
      "text/plain": [
       "View of AnnData object with n_obs × n_vars = 4217 × 35633\n",
       "    obs: 'n_genes_by_counts', 'total_counts', 'total_counts_rb', 'pct_counts_rb', 'total_counts_mt', 'pct_counts_mt', 'doublet_score', 'cell_barcode', 'batch', 'sex', 'age', 'pmi', 'ethnicity', 'race', 'brain_bank', 'homogenization', 'library', 'seq', 'sample', 'short diagnosis', 'S_score', 'G2M_score', 'phase', 'n_counts', 'atlas_identifier', 'leiden_2', 'leiden', 'leiden_05', 'cell_type', 'age_old', 'age_bin', 'log1p_n_genes_by_counts', 'log1p_total_counts', 'pct_counts_in_top_50_genes', 'pct_counts_in_top_100_genes', 'pct_counts_in_top_200_genes', 'pct_counts_in_top_500_genes', 'log1p_total_counts_mt', 'total_counts_ribo', 'log1p_total_counts_ribo', 'pct_counts_ribo'\n",
       "    var: 'n_cells', 'highly_variable', 'means', 'dispersions', 'dispersions_norm', 'highly_variable_nbatches', 'highly_variable_intersection', 'mt', 'rb', 'ribo', 'n_cells_by_counts', 'mean_counts', 'log1p_mean_counts', 'pct_dropout_by_counts', 'total_counts', 'log1p_total_counts'\n",
       "    uns: 'age_bin_colors', 'age_old_colors', 'cell_type_colors', 'hvg', 'leiden', 'neighbors', 'rank_genes_groups', 'umap'\n",
       "    obsm: 'X_pca', 'X_scvi', 'X_umap', 'ora_estimate', 'ora_pvals'\n",
       "    layers: 'counts', 'cpm', 'data'\n",
       "    obsp: 'connectivities', 'distances'"
      ]
     },
     "execution_count": 16,
     "metadata": {},
     "output_type": "execute_result"
    }
   ],
   "source": [
    "# CHECK\n",
    "adata[adata.obs['cell_type'] == cell_types[0]]"
   ]
  },
  {
   "cell_type": "code",
   "execution_count": 18,
   "metadata": {},
   "outputs": [
    {
     "name": "stdout",
     "output_type": "stream",
     "text": [
      "selected_cell_type = DaN\n"
     ]
    }
   ],
   "source": [
    "# CHANGE - for each cell type\n",
    "selected_cell_type = cell_types[0]\n",
    "print('selected_cell_type =', selected_cell_type)"
   ]
  },
  {
   "cell_type": "code",
   "execution_count": null,
   "metadata": {},
   "outputs": [],
   "source": [
    "#* TODO - go thru 1 cell type at a time before you make a loop\n",
    "\n",
    "# Get pseudo-bulk profile\n",
    "pdata = dc.get_pseudobulk(\n",
    "    adata[adata.obs['cell_type'] == selected_cell_type].copy(),\n",
    "    sample_col  = 'sample',\n",
    "    groups_col  = 'cell_type',\n",
    "    layer       = 'counts',\n",
    "    mode        = 'sum',\n",
    "    min_cells   = 10,\n",
    "    min_counts  = 10\n",
    ")"
   ]
  },
  {
   "cell_type": "code",
   "execution_count": 20,
   "metadata": {},
   "outputs": [
    {
     "data": {
      "text/plain": [
       "AnnData object with n_obs × n_vars = 89 × 31964\n",
       "    obs: 'sample', 'cell_type', 'batch', 'sex', 'age', 'pmi', 'ethnicity', 'race', 'brain_bank', 'homogenization', 'library', 'seq', 'short diagnosis', 'age_old', 'age_bin', 'psbulk_n_cells', 'psbulk_counts'\n",
       "    var: 'n_cells', 'highly_variable', 'means', 'dispersions', 'dispersions_norm', 'highly_variable_nbatches', 'highly_variable_intersection', 'mt', 'rb', 'ribo', 'n_cells_by_counts', 'mean_counts', 'log1p_mean_counts', 'pct_dropout_by_counts', 'total_counts', 'log1p_total_counts'\n",
       "    layers: 'psbulk_props'"
      ]
     },
     "execution_count": 20,
     "metadata": {},
     "output_type": "execute_result"
    }
   ],
   "source": [
    "# CHECK\n",
    "pdata"
   ]
  },
  {
   "cell_type": "code",
   "execution_count": 22,
   "metadata": {},
   "outputs": [
    {
     "data": {
      "text/plain": [
       "1023_DaN       63.0\n",
       "1105_DaN       44.2\n",
       "1135_DaN       60.4\n",
       "1179_DaN       45.4\n",
       "1187_DaN       21.5\n",
       "               ... \n",
       "PT13818_DaN    67.0\n",
       "S05135_DaN     86.0\n",
       "S14752_DaN     76.0\n",
       "S15709_DaN     81.0\n",
       "SP5568_DaN     65.0\n",
       "Name: age, Length: 89, dtype: float64"
      ]
     },
     "execution_count": 22,
     "metadata": {},
     "output_type": "execute_result"
    }
   ],
   "source": [
    "# CONVERT - age col into float types\n",
    "pdata.obs['age'] = pdata.obs.age.astype('float')\n",
    "\n",
    "# CHECK\n",
    "pdata.obs['age']"
   ]
  },
  {
   "cell_type": "code",
   "execution_count": 23,
   "metadata": {},
   "outputs": [
    {
     "data": {
      "text/plain": [
       "array([[  4.,   5.,   1., ...,  13., 103.,   0.],\n",
       "       [  0.,   3.,   0., ...,   2.,   6.,   0.],\n",
       "       [  0.,   0.,   3., ...,   8.,  42.,   0.],\n",
       "       ...,\n",
       "       [  0.,   1.,   0., ...,   4.,  41.,   0.],\n",
       "       [  0.,   1.,   1., ...,   5.,  20.,   0.],\n",
       "       [  3.,   1.,   1., ...,   9.,  43.,   0.]], dtype=float32)"
      ]
     },
     "execution_count": 23,
     "metadata": {},
     "output_type": "execute_result"
    }
   ],
   "source": [
    "# Store raw counts in layers\n",
    "pdata.layers['counts'] = pdata.X.copy()\n",
    "\n",
    "# CHECK\n",
    "pdata.X.copy()"
   ]
  },
  {
   "cell_type": "code",
   "execution_count": 24,
   "metadata": {},
   "outputs": [],
   "source": [
    "# Normalize, scale and compute PCA\n",
    "sc.pp.normalize_total(pdata, target_sum=1e4)\n",
    "sc.pp.log1p(pdata)\n",
    "sc.pp.scale(pdata, max_value=10)\n",
    "sc.tl.pca(pdata)"
   ]
  },
  {
   "cell_type": "code",
   "execution_count": 25,
   "metadata": {},
   "outputs": [],
   "source": [
    "# Return raw counts to X\n",
    "dc.swap_layer(\n",
    "    pdata, \n",
    "    'counts', \n",
    "    X_layer_key = None, \n",
    "    inplace = True\n",
    ")"
   ]
  },
  {
   "cell_type": "code",
   "execution_count": 26,
   "metadata": {},
   "outputs": [],
   "source": [
    "# # RENAME - col names with a space in the name will be problematic\n",
    "# # Abreviate diagnosis\n",
    "# pdata.obs['diagnosis'] = pdata.obs['Primary Diagnosis']"
   ]
  },
  {
   "cell_type": "code",
   "execution_count": 27,
   "metadata": {},
   "outputs": [],
   "source": [
    "# NORMALIZE - ages and shift the center to 0 so positive #'s = old, negative #'s = young\n",
    "ages = pdata.obs.age\n",
    "\n",
    "#? Q) What is this doing?\n",
    "#? A) Normalizing the ages to be 0 - 1, and then shifting the center to 0 so the range is now -0.5 to 0.5\n",
    "#?    Then the old = positive #'s and the young = negative #'s\n",
    "pdata.obs['normalage'] = (ages - np.min(ages)) / (np.max(ages) - np.min(ages)) - .5\n",
    "\n",
    "# # CHECK\n",
    "# print('ages = \\n', ages, '\\n')\n",
    "# print('np.min(ages) =', np.min(ages))\n",
    "# print('np.max(ages) =', np.max(ages))\n",
    "# print('np.max(ages) - np.min(ages) =', np.max(ages) - np.min(ages))"
   ]
  },
  {
   "cell_type": "code",
   "execution_count": 28,
   "metadata": {},
   "outputs": [
    {
     "name": "stdout",
     "output_type": "stream",
     "text": [
      "Index(['sample', 'cell_type', 'batch', 'sex', 'age', 'pmi', 'ethnicity',\n",
      "       'race', 'brain_bank', 'homogenization', 'library', 'seq',\n",
      "       'short diagnosis', 'age_old', 'age_bin', 'psbulk_n_cells',\n",
      "       'psbulk_counts', 'normalage'],\n",
      "      dtype='object')\n"
     ]
    }
   ],
   "source": [
    "# CHECK\n",
    "print(pdata.obs.columns)"
   ]
  },
  {
   "cell_type": "code",
   "execution_count": null,
   "metadata": {},
   "outputs": [],
   "source": [
    "# # FIX - space in name\n",
    "# pdata.obs['short_diagnosis'] = pdata.obs['short diagnosis']"
   ]
  },
  {
   "cell_type": "code",
   "execution_count": 29,
   "metadata": {},
   "outputs": [],
   "source": [
    "\n",
    "dc.get_metadata_associations(\n",
    "    pdata,\n",
    "    obs_keys = [\n",
    "        'normalage', \n",
    "        # 'short_diagnosis', \n",
    "        'age_bin',\n",
    "        'psbulk_n_cells', \n",
    "        'psbulk_counts'\n",
    "        ],                      # Metadata columns to associate to PCs\n",
    "    obsm_key    = 'X_pca',      # Where the PCs are stored\n",
    "    uns_key     = 'pca_anova',  # Where the results are stored\n",
    "    inplace     = True,\n",
    ")"
   ]
  },
  {
   "cell_type": "code",
   "execution_count": 30,
   "metadata": {},
   "outputs": [
    {
     "data": {
      "text/plain": [
       "AnnData object with n_obs × n_vars = 89 × 31964\n",
       "    obs: 'sample', 'cell_type', 'batch', 'sex', 'age', 'pmi', 'ethnicity', 'race', 'brain_bank', 'homogenization', 'library', 'seq', 'short diagnosis', 'age_old', 'age_bin', 'psbulk_n_cells', 'psbulk_counts', 'normalage'\n",
       "    var: 'n_cells', 'highly_variable', 'means', 'dispersions', 'dispersions_norm', 'highly_variable_nbatches', 'highly_variable_intersection', 'mt', 'rb', 'ribo', 'n_cells_by_counts', 'mean_counts', 'log1p_mean_counts', 'pct_dropout_by_counts', 'total_counts', 'log1p_total_counts', 'mean', 'std'\n",
       "    uns: 'log1p', 'pca', 'pca_anova'\n",
       "    obsm: 'X_pca'\n",
       "    varm: 'PCs'\n",
       "    layers: 'psbulk_props', 'counts'"
      ]
     },
     "execution_count": 30,
     "metadata": {},
     "output_type": "execute_result"
    }
   ],
   "source": [
    "# CHECK\n",
    "pdata"
   ]
  },
  {
   "cell_type": "code",
   "execution_count": null,
   "metadata": {},
   "outputs": [],
   "source": [
    "# NOTE - i'm not using this col\n",
    "# pdata.obs.short_diagnosis"
   ]
  },
  {
   "cell_type": "code",
   "execution_count": 32,
   "metadata": {},
   "outputs": [
    {
     "data": {
      "text/plain": [
       "array(['AACS', 'AAGAB', 'AAK1', ..., 'ZXDC', 'ZYG11B', 'ZZEF1'],\n",
       "      dtype='<U17')"
      ]
     },
     "execution_count": 32,
     "metadata": {},
     "output_type": "execute_result"
    }
   ],
   "source": [
    "# FILTER - genes with low expression\n",
    "pdata_genes = dc.filter_by_expr(\n",
    "    pdata, \n",
    "    # group           = 'diagnosis', \n",
    "    # group           = 'short_diagnosis', \n",
    "    group           = 'age_bin',\n",
    "    min_count       = 10, \n",
    "    min_total_count = 15\n",
    "    )\n",
    "\n",
    "# CHECK\n",
    "pdata_genes"
   ]
  },
  {
   "cell_type": "code",
   "execution_count": 33,
   "metadata": {},
   "outputs": [
    {
     "data": {
      "text/plain": [
       "View of AnnData object with n_obs × n_vars = 89 × 6122\n",
       "    obs: 'sample', 'cell_type', 'batch', 'sex', 'age', 'pmi', 'ethnicity', 'race', 'brain_bank', 'homogenization', 'library', 'seq', 'short diagnosis', 'age_old', 'age_bin', 'psbulk_n_cells', 'psbulk_counts', 'normalage'\n",
       "    var: 'n_cells', 'highly_variable', 'means', 'dispersions', 'dispersions_norm', 'highly_variable_nbatches', 'highly_variable_intersection', 'mt', 'rb', 'ribo', 'n_cells_by_counts', 'mean_counts', 'log1p_mean_counts', 'pct_dropout_by_counts', 'total_counts', 'log1p_total_counts', 'mean', 'std'\n",
       "    uns: 'log1p', 'pca', 'pca_anova'\n",
       "    obsm: 'X_pca'\n",
       "    varm: 'PCs'\n",
       "    layers: 'psbulk_props', 'counts'"
      ]
     },
     "execution_count": 33,
     "metadata": {},
     "output_type": "execute_result"
    }
   ],
   "source": [
    "# CHECK\n",
    "pdata[:, pdata_genes]"
   ]
  },
  {
   "cell_type": "code",
   "execution_count": 34,
   "metadata": {},
   "outputs": [
    {
     "data": {
      "text/plain": [
       "AnnData object with n_obs × n_vars = 89 × 6122\n",
       "    obs: 'sample', 'cell_type', 'batch', 'sex', 'age', 'pmi', 'ethnicity', 'race', 'brain_bank', 'homogenization', 'library', 'seq', 'short diagnosis', 'age_old', 'age_bin', 'psbulk_n_cells', 'psbulk_counts', 'normalage'\n",
       "    var: 'n_cells', 'highly_variable', 'means', 'dispersions', 'dispersions_norm', 'highly_variable_nbatches', 'highly_variable_intersection', 'mt', 'rb', 'ribo', 'n_cells_by_counts', 'mean_counts', 'log1p_mean_counts', 'pct_dropout_by_counts', 'total_counts', 'log1p_total_counts', 'mean', 'std'\n",
       "    uns: 'log1p', 'pca', 'pca_anova'\n",
       "    obsm: 'X_pca'\n",
       "    varm: 'PCs'\n",
       "    layers: 'psbulk_props', 'counts'"
      ]
     },
     "execution_count": 34,
     "metadata": {},
     "output_type": "execute_result"
    }
   ],
   "source": [
    "pdata = pdata[:, pdata_genes].copy()\n",
    "pdata"
   ]
  },
  {
   "cell_type": "code",
   "execution_count": 35,
   "metadata": {},
   "outputs": [
    {
     "name": "stderr",
     "output_type": "stream",
     "text": [
      "/tmp/ipykernel_2225392/350292461.py:6: DeprecationWarning: design_factors is deprecated and will soon be removed.Please consider providing a formulaic formula using the design argumentinstead.\n",
      "  dds = DeseqDataSet(\n",
      "Fitting size factors...\n",
      "... done in 0.03 seconds.\n",
      "\n"
     ]
    },
    {
     "name": "stdout",
     "output_type": "stream",
     "text": [
      "Using None as control genes, passed at DeseqDataSet initialization\n"
     ]
    },
    {
     "name": "stderr",
     "output_type": "stream",
     "text": [
      "Fitting dispersions...\n",
      "... done in 3.07 seconds.\n",
      "\n",
      "Fitting dispersion trend curve...\n",
      "/data/fonge2/conda/lib/python3.10/site-packages/pydeseq2/dds.py:804: UserWarning: The dispersion trend curve fitting did not converge. Switching to a mean-based dispersion trend.\n",
      "  self._fit_parametric_dispersion_trend(vst)\n",
      "... done in 0.23 seconds.\n",
      "\n",
      "Fitting MAP dispersions...\n",
      "... done in 2.85 seconds.\n",
      "\n",
      "Fitting LFCs...\n",
      "... done in 1.92 seconds.\n",
      "\n",
      "Calculating cook's distance...\n",
      "... done in 0.06 seconds.\n",
      "\n",
      "Replacing 213 outlier genes.\n",
      "\n",
      "Fitting dispersions...\n",
      "... done in 0.17 seconds.\n",
      "\n",
      "Fitting MAP dispersions...\n",
      "... done in 0.18 seconds.\n",
      "\n",
      "Fitting LFCs...\n",
      "... done in 0.15 seconds.\n",
      "\n"
     ]
    }
   ],
   "source": [
    "#? Q) Is it ok to have normalage and age_bin in the design_factors?\n",
    "#? A) nooooooo, both are looking at a similar stat\n",
    "\n",
    "inference = DefaultInference(n_cpus=8)\n",
    "\n",
    "dds = DeseqDataSet(\n",
    "    adata           = pdata[pdata.obs['cell_type'] == selected_cell_type].copy(),\n",
    "    design_factors  = ['age_bin', 'batch'],\n",
    "    refit_cooks     = True,\n",
    "    inference       = inference,\n",
    ")\n",
    "\n",
    "# Compute LFCs\n",
    "dds.deseq2()"
   ]
  },
  {
   "cell_type": "code",
   "execution_count": 37,
   "metadata": {},
   "outputs": [],
   "source": [
    "# EXTRACT - contrast between normal and DLB\n",
    "#* TODO - rename my disease + controls\n",
    "\n",
    "stat_res = DeseqStats(\n",
    "    dds,\n",
    "    # contrast    = [\"age_bin\", disease[0], control[0]],\n",
    "    contrast    = [\"age_bin\", young[0] , old[0] ],\n",
    "    inference   = inference,\n",
    ")"
   ]
  },
  {
   "cell_type": "code",
   "execution_count": null,
   "metadata": {},
   "outputs": [],
   "source": [
    "# Compute Wald test\n",
    "stat_res.summary()"
   ]
  },
  {
   "cell_type": "code",
   "execution_count": null,
   "metadata": {},
   "outputs": [],
   "source": [
    "# EXTRACT - results to DF\n",
    "DGE_results_df = stat_res.results_df\n",
    "DGE_results_df"
   ]
  },
  {
   "cell_type": "code",
   "execution_count": null,
   "metadata": {},
   "outputs": [],
   "source": [
    "#? Q) What is this doing?\n",
    "# - Creating a new col based on the negative log 10 of padj???\n",
    "DGE_results_df['-log10_padj'] = -np.log10(DGE_results_df['padj'])"
   ]
  },
  {
   "cell_type": "markdown",
   "metadata": {},
   "source": [
    "# EXPORT - results"
   ]
  },
  {
   "cell_type": "code",
   "execution_count": null,
   "metadata": {},
   "outputs": [],
   "source": [
    "# DGE_results_df.to_csv(snakemake.output.output_figure)\n",
    "output_path = 'output/DGE_results_df.csv'\n",
    "DGE_results_df.to_csv(output_path)"
   ]
  },
  {
   "cell_type": "code",
   "execution_count": null,
   "metadata": {},
   "outputs": [],
   "source": [
    "# PLOT - volcano plot \n",
    "dc.plot_volcano_df(\n",
    "    # astrocyte_DLB_results_df,\n",
    "    DGE_results_df,\n",
    "    x           = 'log2FoldChange',\n",
    "    y           = 'padj',\n",
    "    top         = 20,\n",
    "    lFCs_thr    = 1,\n",
    "    sign_thr    = 1e-2,\n",
    "    figsize     = (2, 3),\n",
    "    dpi         = 300,\n",
    "    # save        = snakemake.output.output_figure\n",
    "    save        = 'output/volcano_plot.png'\n",
    ")"
   ]
  },
  {
   "cell_type": "markdown",
   "metadata": {},
   "source": [
    "#* TODO - run the other celltypes by making a separate JNB for each so we can explore the results"
   ]
  }
 ],
 "metadata": {
  "kernelspec": {
   "display_name": "base",
   "language": "python",
   "name": "python3"
  },
  "language_info": {
   "codemirror_mode": {
    "name": "ipython",
    "version": 3
   },
   "file_extension": ".py",
   "mimetype": "text/x-python",
   "name": "python",
   "nbconvert_exporter": "python",
   "pygments_lexer": "ipython3",
   "version": "3.10.13"
  }
 },
 "nbformat": 4,
 "nbformat_minor": 2
}
