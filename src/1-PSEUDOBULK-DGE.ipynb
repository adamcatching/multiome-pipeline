{
 "cells": [
  {
   "cell_type": "markdown",
   "metadata": {},
   "source": [
    "STARTED:      2/26/25\n",
    "\n",
    "LAST UPDATED: 3/4/25\n",
    "\n",
    "By Eugene Fong\n",
    "\n",
    "# GOAL(S)\n",
    "\n",
    "- Pseudobulk on the SN data\n",
    "\n",
    "# #* TODO\n",
    "\n",
    "XYLENA: \n",
    "- pseudobulk each category (young/old) then run w/the tools Adam used\n",
    "- avg's expression of each cell type in each sample\n",
    "- should have a tool in scanpy\n",
    "- also in Adam's pipeline\n",
    "\n",
    "ADAM\n",
    "- break up the adata obj into indiv clusters by cell type for the trajectory analysis\n",
    "- redo the DGE by cell type, \n",
    "- use the leiden_2 cluster\n",
    "\n",
    "Pseudo-bulking = collapsing into counts the mean expression for that sample\n",
    "- sum is better for genes that are lowly expressed by highly variable betw samples\n",
    "- mean is better for genes that are highly expressed genes\n",
    "\n",
    "Lit review on pseudotime and trajectory analysis tools, run by some suggestions by Xylena before starting on one"
   ]
  },
  {
   "cell_type": "markdown",
   "metadata": {},
   "source": [
    "# CHANGE - choose your cell type:\n",
    "\n",
    "```\n",
    "cell_type[0] = DaN\n",
    "cell_type[1] = ExN\n",
    "cell_type[2] = EC\n",
    "cell_type[3] = Oligo\n",
    "cell_type[4] = Astro\n",
    "cell_type[5] = OPC\n",
    "cell_type[6] = PC\n",
    "cell_type[7] = MG\n",
    "cell_type[8] = InN\n",
    "cell_type[9] = TC\n",
    "```"
   ]
  },
  {
   "cell_type": "code",
   "execution_count": 44,
   "metadata": {},
   "outputs": [],
   "source": [
    "cell_type_number = 0"
   ]
  },
  {
   "cell_type": "markdown",
   "metadata": {},
   "source": [
    "# LOAD DATA\n",
    "\n",
    "### DEFINE PATHS"
   ]
  },
  {
   "cell_type": "code",
   "execution_count": 2,
   "metadata": {},
   "outputs": [],
   "source": [
    "# INPUT - my mod'ed .h5ad file\n",
    "input_file = '/vf/users/CARD_singlecell/SN_control_atlas/multiome-pipeline/src/output/05_annotated_anndata_rna-ef-rank_genes_groups.h5ad'"
   ]
  },
  {
   "cell_type": "code",
   "execution_count": 3,
   "metadata": {},
   "outputs": [],
   "source": [
    "# # OUTPUT - file path for my testing, base on the original file name\n",
    "# output_file = os.path.join('output', os.path.basename(input_file).replace('.h5ad', '-ef-rank_genes_groups.h5ad'))\n",
    "# print('output_file =', output_file)"
   ]
  },
  {
   "cell_type": "markdown",
   "metadata": {},
   "source": [
    "# PSEUDOBULK + DGE\n",
    "\n",
    "#* TODO\n",
    "\n",
    "- run Adam's updated rna_DGE.py script in JNB (copy and paste?)\n",
    "- will need to edit some of the variables\n",
    "- read up on DESEQ2 and Decouplr\n",
    "\n",
    "Can figure out how ot pull GH properly laterrrr\n",
    "\n",
    "### REFS: \n",
    "\n",
    "- Adam's DGE snakemake rule\n",
    "- Pseudo-bulk: [https://decoupler-py.readthedocs.io/en/latest/notebooks/pseudobulk.html](https://decoupler-py.readthedocs.io/en/latest/notebooks/pseudobulk.html)\n",
    "- DESeq2 (original in R): [https://bioconductor.org/packages/release/bioc/html/DESeq2.html](https://bioconductor.org/packages/release/bioc/html/DESeq2.html)\n",
    "- PyDESeq2 (Python vers): [https://pydeseq2.readthedocs.io/en/stable/](https://pydeseq2.readthedocs.io/en/stable/)"
   ]
  },
  {
   "cell_type": "markdown",
   "metadata": {},
   "source": [
    "# INSTALLS  "
   ]
  },
  {
   "cell_type": "code",
   "execution_count": 4,
   "metadata": {},
   "outputs": [],
   "source": [
    "# %pip install pydeseq2"
   ]
  },
  {
   "cell_type": "markdown",
   "metadata": {},
   "source": [
    "SOURCE: Adam's `rna_DGE.py` snakemake rule\n",
    "\n",
    "# IMPORTS"
   ]
  },
  {
   "cell_type": "code",
   "execution_count": 5,
   "metadata": {},
   "outputs": [
    {
     "name": "stderr",
     "output_type": "stream",
     "text": [
      "/data/fonge2/conda/lib/python3.10/site-packages/anndata/utils.py:429: FutureWarning: Importing read_csv from `anndata` is deprecated. Import anndata.io.read_csv instead.\n",
      "  warnings.warn(msg, FutureWarning)\n",
      "/data/fonge2/conda/lib/python3.10/site-packages/anndata/utils.py:429: FutureWarning: Importing read_excel from `anndata` is deprecated. Import anndata.io.read_excel instead.\n",
      "  warnings.warn(msg, FutureWarning)\n",
      "/data/fonge2/conda/lib/python3.10/site-packages/anndata/utils.py:429: FutureWarning: Importing read_hdf from `anndata` is deprecated. Import anndata.io.read_hdf instead.\n",
      "  warnings.warn(msg, FutureWarning)\n",
      "/data/fonge2/conda/lib/python3.10/site-packages/anndata/utils.py:429: FutureWarning: Importing read_loom from `anndata` is deprecated. Import anndata.io.read_loom instead.\n",
      "  warnings.warn(msg, FutureWarning)\n",
      "/data/fonge2/conda/lib/python3.10/site-packages/anndata/utils.py:429: FutureWarning: Importing read_mtx from `anndata` is deprecated. Import anndata.io.read_mtx instead.\n",
      "  warnings.warn(msg, FutureWarning)\n",
      "/data/fonge2/conda/lib/python3.10/site-packages/anndata/utils.py:429: FutureWarning: Importing read_text from `anndata` is deprecated. Import anndata.io.read_text instead.\n",
      "  warnings.warn(msg, FutureWarning)\n",
      "/data/fonge2/conda/lib/python3.10/site-packages/anndata/utils.py:429: FutureWarning: Importing read_umi_tools from `anndata` is deprecated. Import anndata.io.read_umi_tools instead.\n",
      "  warnings.warn(msg, FutureWarning)\n"
     ]
    }
   ],
   "source": [
    "# import anndata as ad\n",
    "# import scipy\n",
    "import pandas as pd\n",
    "import matplotlib.pyplot as plt\n",
    "# import seaborn as sns\n",
    "import numpy as np\n",
    "import scanpy as sc\n",
    "import decoupler as dc\n",
    "from pydeseq2.dds import DeseqDataSet, DefaultInference\n",
    "from pydeseq2.ds import DeseqStats\n",
    "\n",
    "import pprint\n",
    "import os"
   ]
  },
  {
   "cell_type": "markdown",
   "metadata": {},
   "source": [
    "# LOAD DATA"
   ]
  },
  {
   "cell_type": "code",
   "execution_count": 6,
   "metadata": {},
   "outputs": [],
   "source": [
    "# # Open RNA\n",
    "# adata = sc.read_h5ad(snakemake.input.rna_anndata)\n",
    "adata = sc.read_h5ad(input_file)"
   ]
  },
  {
   "cell_type": "code",
   "execution_count": 7,
   "metadata": {},
   "outputs": [
    {
     "name": "stdout",
     "output_type": "stream",
     "text": [
      "AnnData object with n_obs × n_vars = 477356 × 35633\n",
      "    obs: 'n_genes_by_counts', 'total_counts', 'total_counts_rb', 'pct_counts_rb', 'total_counts_mt', 'pct_counts_mt', 'doublet_score', 'cell_barcode', 'batch', 'sex', 'age', 'pmi', 'ethnicity', 'race', 'brain_bank', 'homogenization', 'library', 'seq', 'sample', 'short diagnosis', 'S_score', 'G2M_score', 'phase', 'n_counts', 'atlas_identifier', 'leiden_2', 'leiden', 'leiden_05', 'cell_type', 'age_old', 'age_bin', 'log1p_n_genes_by_counts', 'log1p_total_counts', 'pct_counts_in_top_50_genes', 'pct_counts_in_top_100_genes', 'pct_counts_in_top_200_genes', 'pct_counts_in_top_500_genes', 'log1p_total_counts_mt', 'total_counts_ribo', 'log1p_total_counts_ribo', 'pct_counts_ribo'\n",
      "    var: 'n_cells', 'highly_variable', 'means', 'dispersions', 'dispersions_norm', 'highly_variable_nbatches', 'highly_variable_intersection', 'mt', 'rb', 'ribo', 'n_cells_by_counts', 'mean_counts', 'log1p_mean_counts', 'pct_dropout_by_counts', 'total_counts', 'log1p_total_counts'\n",
      "    uns: 'age_bin_colors', 'age_old_colors', 'cell_type_colors', 'hvg', 'leiden', 'neighbors', 'rank_genes_groups', 'umap'\n",
      "    obsm: 'X_pca', 'X_scvi', 'X_umap', 'ora_estimate', 'ora_pvals'\n",
      "    layers: 'counts', 'cpm', 'data'\n",
      "    obsp: 'connectivities', 'distances'\n"
     ]
    }
   ],
   "source": [
    "# CHECK\n",
    "pprint.pprint(adata)"
   ]
  },
  {
   "cell_type": "markdown",
   "metadata": {},
   "source": [
    "# DEFINE VARIABLES"
   ]
  },
  {
   "cell_type": "code",
   "execution_count": 8,
   "metadata": {},
   "outputs": [
    {
     "name": "stdout",
     "output_type": "stream",
     "text": [
      "cell_types = ['DaN', 'ExN', 'EC', 'Oligo', 'Astro', 'OPC', 'PC', 'MG', 'InN', 'TC']\n"
     ]
    }
   ],
   "source": [
    "# # Define the cell types to look for\n",
    "# cell_types = ['Astro', 'DaN', 'ExN', 'EC', 'InN', 'MG', 'OPC', 'Oligo', 'PC', 'TC']\n",
    "\n",
    "# EXTRACT - cell types from the unique values in the 'cell_type' column\n",
    "cell_types = list(adata.obs['cell_type'].unique())\n",
    "print('cell_types =', cell_types)\n",
    "# print('cell_types[0] =', cell_types[0])"
   ]
  },
  {
   "cell_type": "code",
   "execution_count": 9,
   "metadata": {},
   "outputs": [
    {
     "name": "stdout",
     "output_type": "stream",
     "text": [
      "young = ['young (< 57.9)']\n",
      "old = ['old (>= 57.9)']\n"
     ]
    }
   ],
   "source": [
    "# # # Define disease states\n",
    "\n",
    "# EXTRACT - the control and disease states from the unique values in the 'age_bin' column\n",
    "col_of_interest = 'age_bin'\n",
    "young = list(adata.obs[col_of_interest].unique())[0:1]\n",
    "old = list(adata.obs[col_of_interest].unique())[1:]\n",
    "\n",
    "# CHECK\n",
    "print('young =', young)\n",
    "print('old =', old)"
   ]
  },
  {
   "cell_type": "code",
   "execution_count": 12,
   "metadata": {},
   "outputs": [],
   "source": [
    "# #* TODO - as a for loop?\n",
    "# # Read in parameters\n",
    "# cell_type       = snakemake.params.cell_type\n",
    "# disease_name    = snakemake.params.disease\n",
    "# control_name    = snakemake.params.control"
   ]
  },
  {
   "cell_type": "code",
   "execution_count": 13,
   "metadata": {},
   "outputs": [
    {
     "name": "stdout",
     "output_type": "stream",
     "text": [
      "cell_type[0] = DaN\n",
      "cell_type[1] = ExN\n",
      "cell_type[2] = EC\n",
      "cell_type[3] = Oligo\n",
      "cell_type[4] = Astro\n",
      "cell_type[5] = OPC\n",
      "cell_type[6] = PC\n",
      "cell_type[7] = MG\n",
      "cell_type[8] = InN\n",
      "cell_type[9] = TC\n"
     ]
    }
   ],
   "source": [
    "# # SUBSET - the data for the cell type\n",
    "# adata = adata[adata.obs['cell_type'] == cell_type].copy()\n",
    "\n",
    "counter = 0\n",
    "\n",
    "for cell_type in cell_types:\n",
    "    print(f'cell_type[{counter}] = {cell_type}')\n",
    "    counter += 1\n",
    "    # adata = adata[adata.obs['cell_type'] == cell_type].copy()"
   ]
  },
  {
   "cell_type": "code",
   "execution_count": 14,
   "metadata": {},
   "outputs": [
    {
     "data": {
      "text/plain": [
       "GCACGAACAATGAATG-1_890         DaN\n",
       "CCACAATAGTCAGGCC-1_890         ExN\n",
       "CTGCAATAGTGTTGCG-1_890         ExN\n",
       "GAGTGAGGTCATGAGC-1_890         DaN\n",
       "GCTCAACCAGCATGTC-1_890          EC\n",
       "                             ...  \n",
       "ATTTAGGTCATAACCA-1_SP5256       PC\n",
       "GCTAAGAAGGCAATAG-1_SP5256    Oligo\n",
       "AGCCTAGTCCTCATCA-1_SP5256    Oligo\n",
       "AGCAAGGGTGGATTGC-1_SP5256       PC\n",
       "CACATGCCAGTCTATG-1_SP5256    Astro\n",
       "Name: cell_type, Length: 477356, dtype: category\n",
       "Categories (10, object): ['Astro', 'DaN', 'EC', 'ExN', ..., 'OPC', 'Oligo', 'PC', 'TC']"
      ]
     },
     "execution_count": 14,
     "metadata": {},
     "output_type": "execute_result"
    }
   ],
   "source": [
    "# CHECK\n",
    "adata.obs['cell_type']"
   ]
  },
  {
   "cell_type": "code",
   "execution_count": 15,
   "metadata": {},
   "outputs": [
    {
     "data": {
      "text/plain": [
       "View of AnnData object with n_obs × n_vars = 4217 × 35633\n",
       "    obs: 'n_genes_by_counts', 'total_counts', 'total_counts_rb', 'pct_counts_rb', 'total_counts_mt', 'pct_counts_mt', 'doublet_score', 'cell_barcode', 'batch', 'sex', 'age', 'pmi', 'ethnicity', 'race', 'brain_bank', 'homogenization', 'library', 'seq', 'sample', 'short diagnosis', 'S_score', 'G2M_score', 'phase', 'n_counts', 'atlas_identifier', 'leiden_2', 'leiden', 'leiden_05', 'cell_type', 'age_old', 'age_bin', 'log1p_n_genes_by_counts', 'log1p_total_counts', 'pct_counts_in_top_50_genes', 'pct_counts_in_top_100_genes', 'pct_counts_in_top_200_genes', 'pct_counts_in_top_500_genes', 'log1p_total_counts_mt', 'total_counts_ribo', 'log1p_total_counts_ribo', 'pct_counts_ribo'\n",
       "    var: 'n_cells', 'highly_variable', 'means', 'dispersions', 'dispersions_norm', 'highly_variable_nbatches', 'highly_variable_intersection', 'mt', 'rb', 'ribo', 'n_cells_by_counts', 'mean_counts', 'log1p_mean_counts', 'pct_dropout_by_counts', 'total_counts', 'log1p_total_counts'\n",
       "    uns: 'age_bin_colors', 'age_old_colors', 'cell_type_colors', 'hvg', 'leiden', 'neighbors', 'rank_genes_groups', 'umap'\n",
       "    obsm: 'X_pca', 'X_scvi', 'X_umap', 'ora_estimate', 'ora_pvals'\n",
       "    layers: 'counts', 'cpm', 'data'\n",
       "    obsp: 'connectivities', 'distances'"
      ]
     },
     "execution_count": 15,
     "metadata": {},
     "output_type": "execute_result"
    }
   ],
   "source": [
    "# CHECK\n",
    "adata[adata.obs['cell_type'] == cell_types[0]]"
   ]
  },
  {
   "cell_type": "code",
   "execution_count": null,
   "metadata": {},
   "outputs": [
    {
     "name": "stdout",
     "output_type": "stream",
     "text": [
      "selected_cell_type = DaN\n"
     ]
    }
   ],
   "source": [
    "# CHANGE - for each cell type\n",
    "selected_cell_type = cell_types[cell_type_number]\n",
    "print('selected_cell_type =', selected_cell_type)"
   ]
  },
  {
   "cell_type": "code",
   "execution_count": 17,
   "metadata": {},
   "outputs": [],
   "source": [
    "#* TODO - go thru 1 cell type at a time before you make a loop\n",
    "\n",
    "# Get pseudo-bulk profile\n",
    "pdata = dc.get_pseudobulk(\n",
    "    adata[adata.obs['cell_type'] == selected_cell_type].copy(),\n",
    "    sample_col  = 'sample',\n",
    "    groups_col  = 'cell_type',\n",
    "    layer       = 'counts',\n",
    "    mode        = 'sum',\n",
    "    min_cells   = 10,\n",
    "    min_counts  = 10\n",
    ")"
   ]
  },
  {
   "cell_type": "code",
   "execution_count": 18,
   "metadata": {},
   "outputs": [
    {
     "data": {
      "text/plain": [
       "AnnData object with n_obs × n_vars = 89 × 31964\n",
       "    obs: 'sample', 'cell_type', 'batch', 'sex', 'age', 'pmi', 'ethnicity', 'race', 'brain_bank', 'homogenization', 'library', 'seq', 'short diagnosis', 'age_old', 'age_bin', 'psbulk_n_cells', 'psbulk_counts'\n",
       "    var: 'n_cells', 'highly_variable', 'means', 'dispersions', 'dispersions_norm', 'highly_variable_nbatches', 'highly_variable_intersection', 'mt', 'rb', 'ribo', 'n_cells_by_counts', 'mean_counts', 'log1p_mean_counts', 'pct_dropout_by_counts', 'total_counts', 'log1p_total_counts'\n",
       "    layers: 'psbulk_props'"
      ]
     },
     "execution_count": 18,
     "metadata": {},
     "output_type": "execute_result"
    }
   ],
   "source": [
    "# CHECK\n",
    "pdata"
   ]
  },
  {
   "cell_type": "code",
   "execution_count": 19,
   "metadata": {},
   "outputs": [
    {
     "data": {
      "text/plain": [
       "1023_DaN       63.0\n",
       "1105_DaN       44.2\n",
       "1135_DaN       60.4\n",
       "1179_DaN       45.4\n",
       "1187_DaN       21.5\n",
       "               ... \n",
       "PT13818_DaN    67.0\n",
       "S05135_DaN     86.0\n",
       "S14752_DaN     76.0\n",
       "S15709_DaN     81.0\n",
       "SP5568_DaN     65.0\n",
       "Name: age, Length: 89, dtype: float64"
      ]
     },
     "execution_count": 19,
     "metadata": {},
     "output_type": "execute_result"
    }
   ],
   "source": [
    "# CONVERT - age col into float types\n",
    "pdata.obs['age'] = pdata.obs.age.astype('float')\n",
    "\n",
    "# CHECK\n",
    "pdata.obs['age']"
   ]
  },
  {
   "cell_type": "code",
   "execution_count": 20,
   "metadata": {},
   "outputs": [
    {
     "data": {
      "text/plain": [
       "array([[  4.,   5.,   1., ...,  13., 103.,   0.],\n",
       "       [  0.,   3.,   0., ...,   2.,   6.,   0.],\n",
       "       [  0.,   0.,   3., ...,   8.,  42.,   0.],\n",
       "       ...,\n",
       "       [  0.,   1.,   0., ...,   4.,  41.,   0.],\n",
       "       [  0.,   1.,   1., ...,   5.,  20.,   0.],\n",
       "       [  3.,   1.,   1., ...,   9.,  43.,   0.]], dtype=float32)"
      ]
     },
     "execution_count": 20,
     "metadata": {},
     "output_type": "execute_result"
    }
   ],
   "source": [
    "# Store raw counts in layers\n",
    "pdata.layers['counts'] = pdata.X.copy()\n",
    "\n",
    "# CHECK\n",
    "pdata.X.copy()"
   ]
  },
  {
   "cell_type": "code",
   "execution_count": 21,
   "metadata": {},
   "outputs": [],
   "source": [
    "# Normalize, scale and compute PCA\n",
    "sc.pp.normalize_total(pdata, target_sum=1e4)\n",
    "sc.pp.log1p(pdata)\n",
    "sc.pp.scale(pdata, max_value=10)\n",
    "sc.tl.pca(pdata)"
   ]
  },
  {
   "cell_type": "code",
   "execution_count": 22,
   "metadata": {},
   "outputs": [],
   "source": [
    "# Return raw counts to X\n",
    "dc.swap_layer(\n",
    "    pdata, \n",
    "    'counts', \n",
    "    X_layer_key = None, \n",
    "    inplace = True\n",
    ")"
   ]
  },
  {
   "cell_type": "code",
   "execution_count": 23,
   "metadata": {},
   "outputs": [],
   "source": [
    "# # RENAME - col names with a space in the name will be problematic\n",
    "# # Abreviate diagnosis\n",
    "# pdata.obs['diagnosis'] = pdata.obs['Primary Diagnosis']"
   ]
  },
  {
   "cell_type": "code",
   "execution_count": 24,
   "metadata": {},
   "outputs": [],
   "source": [
    "# NORMALIZE - ages and shift the center to 0 so positive #'s = old, negative #'s = young\n",
    "ages = pdata.obs.age\n",
    "\n",
    "#? Q) What is this doing?\n",
    "#? A) Normalizing the ages to be 0 - 1, and then shifting the center to 0 so the range is now -0.5 to 0.5\n",
    "#?    Then the old = positive #'s and the young = negative #'s\n",
    "pdata.obs['normalage'] = (ages - np.min(ages)) / (np.max(ages) - np.min(ages)) - 0.5\n",
    "\n",
    "# # CHECK\n",
    "# print('ages = \\n', ages, '\\n')\n",
    "# print('np.min(ages) =', np.min(ages))\n",
    "# print('np.max(ages) =', np.max(ages))\n",
    "# print('np.max(ages) - np.min(ages) =', np.max(ages) - np.min(ages))"
   ]
  },
  {
   "cell_type": "code",
   "execution_count": 25,
   "metadata": {},
   "outputs": [
    {
     "name": "stdout",
     "output_type": "stream",
     "text": [
      "Index(['sample', 'cell_type', 'batch', 'sex', 'age', 'pmi', 'ethnicity',\n",
      "       'race', 'brain_bank', 'homogenization', 'library', 'seq',\n",
      "       'short diagnosis', 'age_old', 'age_bin', 'psbulk_n_cells',\n",
      "       'psbulk_counts', 'normalage'],\n",
      "      dtype='object')\n"
     ]
    }
   ],
   "source": [
    "# CHECK\n",
    "print(pdata.obs.columns)"
   ]
  },
  {
   "cell_type": "code",
   "execution_count": 26,
   "metadata": {},
   "outputs": [],
   "source": [
    "# # FIX - space in name\n",
    "# pdata.obs['short_diagnosis'] = pdata.obs['short diagnosis']"
   ]
  },
  {
   "cell_type": "code",
   "execution_count": null,
   "metadata": {},
   "outputs": [],
   "source": [
    "#* TODO - check up what this command is doing\n",
    "\n",
    "dc.get_metadata_associations(\n",
    "    pdata,\n",
    "    obs_keys = [\n",
    "        'normalage', \n",
    "        # 'short_diagnosis', \n",
    "        'age_bin',\n",
    "        'psbulk_n_cells', \n",
    "        'psbulk_counts'\n",
    "        ],                      # Metadata columns to associate to PCs\n",
    "    obsm_key    = 'X_pca',      # Where the PCs are stored\n",
    "    uns_key     = 'pca_anova',  # Where the results are stored\n",
    "    inplace     = True,\n",
    ")"
   ]
  },
  {
   "cell_type": "code",
   "execution_count": 28,
   "metadata": {},
   "outputs": [
    {
     "data": {
      "text/plain": [
       "AnnData object with n_obs × n_vars = 89 × 31964\n",
       "    obs: 'sample', 'cell_type', 'batch', 'sex', 'age', 'pmi', 'ethnicity', 'race', 'brain_bank', 'homogenization', 'library', 'seq', 'short diagnosis', 'age_old', 'age_bin', 'psbulk_n_cells', 'psbulk_counts', 'normalage'\n",
       "    var: 'n_cells', 'highly_variable', 'means', 'dispersions', 'dispersions_norm', 'highly_variable_nbatches', 'highly_variable_intersection', 'mt', 'rb', 'ribo', 'n_cells_by_counts', 'mean_counts', 'log1p_mean_counts', 'pct_dropout_by_counts', 'total_counts', 'log1p_total_counts', 'mean', 'std'\n",
       "    uns: 'log1p', 'pca', 'pca_anova'\n",
       "    obsm: 'X_pca'\n",
       "    varm: 'PCs'\n",
       "    layers: 'psbulk_props', 'counts'"
      ]
     },
     "execution_count": 28,
     "metadata": {},
     "output_type": "execute_result"
    }
   ],
   "source": [
    "# CHECK\n",
    "pdata"
   ]
  },
  {
   "cell_type": "code",
   "execution_count": 29,
   "metadata": {},
   "outputs": [],
   "source": [
    "# NOTE - i'm not using this col\n",
    "# pdata.obs.short_diagnosis"
   ]
  },
  {
   "cell_type": "code",
   "execution_count": 30,
   "metadata": {},
   "outputs": [
    {
     "data": {
      "text/plain": [
       "array(['AACS', 'AAGAB', 'AAK1', ..., 'ZXDC', 'ZYG11B', 'ZZEF1'],\n",
       "      dtype='<U17')"
      ]
     },
     "execution_count": 30,
     "metadata": {},
     "output_type": "execute_result"
    }
   ],
   "source": [
    "# FILTER - genes with low expression\n",
    "pdata_genes = dc.filter_by_expr(\n",
    "    pdata, \n",
    "    # group           = 'diagnosis', \n",
    "    # group           = 'short_diagnosis', \n",
    "    group           = 'age_bin',\n",
    "    min_count       = 10, \n",
    "    min_total_count = 15\n",
    "    )\n",
    "\n",
    "# CHECK\n",
    "pdata_genes"
   ]
  },
  {
   "cell_type": "code",
   "execution_count": 31,
   "metadata": {},
   "outputs": [
    {
     "data": {
      "text/plain": [
       "View of AnnData object with n_obs × n_vars = 89 × 6122\n",
       "    obs: 'sample', 'cell_type', 'batch', 'sex', 'age', 'pmi', 'ethnicity', 'race', 'brain_bank', 'homogenization', 'library', 'seq', 'short diagnosis', 'age_old', 'age_bin', 'psbulk_n_cells', 'psbulk_counts', 'normalage'\n",
       "    var: 'n_cells', 'highly_variable', 'means', 'dispersions', 'dispersions_norm', 'highly_variable_nbatches', 'highly_variable_intersection', 'mt', 'rb', 'ribo', 'n_cells_by_counts', 'mean_counts', 'log1p_mean_counts', 'pct_dropout_by_counts', 'total_counts', 'log1p_total_counts', 'mean', 'std'\n",
       "    uns: 'log1p', 'pca', 'pca_anova'\n",
       "    obsm: 'X_pca'\n",
       "    varm: 'PCs'\n",
       "    layers: 'psbulk_props', 'counts'"
      ]
     },
     "execution_count": 31,
     "metadata": {},
     "output_type": "execute_result"
    }
   ],
   "source": [
    "# CHECK\n",
    "pdata[:, pdata_genes]"
   ]
  },
  {
   "cell_type": "code",
   "execution_count": 32,
   "metadata": {},
   "outputs": [
    {
     "data": {
      "text/plain": [
       "AnnData object with n_obs × n_vars = 89 × 6122\n",
       "    obs: 'sample', 'cell_type', 'batch', 'sex', 'age', 'pmi', 'ethnicity', 'race', 'brain_bank', 'homogenization', 'library', 'seq', 'short diagnosis', 'age_old', 'age_bin', 'psbulk_n_cells', 'psbulk_counts', 'normalage'\n",
       "    var: 'n_cells', 'highly_variable', 'means', 'dispersions', 'dispersions_norm', 'highly_variable_nbatches', 'highly_variable_intersection', 'mt', 'rb', 'ribo', 'n_cells_by_counts', 'mean_counts', 'log1p_mean_counts', 'pct_dropout_by_counts', 'total_counts', 'log1p_total_counts', 'mean', 'std'\n",
       "    uns: 'log1p', 'pca', 'pca_anova'\n",
       "    obsm: 'X_pca'\n",
       "    varm: 'PCs'\n",
       "    layers: 'psbulk_props', 'counts'"
      ]
     },
     "execution_count": 32,
     "metadata": {},
     "output_type": "execute_result"
    }
   ],
   "source": [
    "pdata = pdata[:, pdata_genes].copy()\n",
    "pdata"
   ]
  },
  {
   "cell_type": "code",
   "execution_count": 33,
   "metadata": {},
   "outputs": [
    {
     "name": "stderr",
     "output_type": "stream",
     "text": [
      "/tmp/ipykernel_2998914/350292461.py:6: DeprecationWarning: design_factors is deprecated and will soon be removed.Please consider providing a formulaic formula using the design argumentinstead.\n",
      "  dds = DeseqDataSet(\n",
      "Fitting size factors...\n",
      "... done in 0.03 seconds.\n",
      "\n"
     ]
    },
    {
     "name": "stdout",
     "output_type": "stream",
     "text": [
      "Using None as control genes, passed at DeseqDataSet initialization\n"
     ]
    },
    {
     "name": "stderr",
     "output_type": "stream",
     "text": [
      "Fitting dispersions...\n",
      "... done in 2.43 seconds.\n",
      "\n",
      "Fitting dispersion trend curve...\n",
      "/data/fonge2/conda/lib/python3.10/site-packages/pydeseq2/dds.py:804: UserWarning: The dispersion trend curve fitting did not converge. Switching to a mean-based dispersion trend.\n",
      "  self._fit_parametric_dispersion_trend(vst)\n",
      "... done in 0.24 seconds.\n",
      "\n",
      "Fitting MAP dispersions...\n",
      "... done in 2.23 seconds.\n",
      "\n",
      "Fitting LFCs...\n",
      "... done in 1.69 seconds.\n",
      "\n",
      "Calculating cook's distance...\n",
      "... done in 0.06 seconds.\n",
      "\n",
      "Replacing 213 outlier genes.\n",
      "\n",
      "Fitting dispersions...\n",
      "... done in 0.12 seconds.\n",
      "\n",
      "Fitting MAP dispersions...\n",
      "... done in 0.12 seconds.\n",
      "\n",
      "Fitting LFCs...\n",
      "... done in 0.10 seconds.\n",
      "\n"
     ]
    }
   ],
   "source": [
    "#? Q) Is it ok to have normalage and age_bin in the design_factors?\n",
    "#? A) nooooooo, both are looking at a similar stat\n",
    "\n",
    "inference = DefaultInference(n_cpus=8)\n",
    "\n",
    "dds = DeseqDataSet(\n",
    "    adata           = pdata[pdata.obs['cell_type'] == selected_cell_type].copy(),\n",
    "    design_factors  = ['age_bin', 'batch'],\n",
    "    refit_cooks     = True,\n",
    "    inference       = inference,\n",
    ")\n",
    "\n",
    "# Compute LFCs\n",
    "dds.deseq2()"
   ]
  },
  {
   "cell_type": "code",
   "execution_count": 34,
   "metadata": {},
   "outputs": [],
   "source": [
    "# EXTRACT - contrast between young and old\n",
    "stat_res = DeseqStats(\n",
    "    dds,\n",
    "    contrast    = [\"age_bin\", young[0] , old[0] ],\n",
    "    inference   = inference,\n",
    ")"
   ]
  },
  {
   "cell_type": "code",
   "execution_count": 35,
   "metadata": {},
   "outputs": [
    {
     "name": "stderr",
     "output_type": "stream",
     "text": [
      "Running Wald tests...\n"
     ]
    },
    {
     "name": "stdout",
     "output_type": "stream",
     "text": [
      "Log2 fold change & Wald test p-value: age_bin young (< 57.9) vs old (>= 57.9)\n",
      "          baseMean  log2FoldChange     lfcSE      stat    pvalue      padj\n",
      "AACS     14.304684       -0.022562  0.105117 -0.214636  0.830051  0.975078\n",
      "AAGAB    16.056164       -0.001294  0.115332 -0.011216  0.991051  0.997316\n",
      "AAK1    114.834743       -0.102229  0.071116 -1.437499  0.150576  0.677464\n",
      "AARS     18.340447        0.003248  0.147284  0.022051  0.982407  0.995254\n",
      "AARSD1    9.694544        0.125859  0.149119  0.844019  0.398659       NaN\n",
      "...            ...             ...       ...       ...       ...       ...\n",
      "ZUP1      7.818206        0.139048  0.132806  1.047001  0.295099       NaN\n",
      "ZW10      8.821378        0.370893  0.124239  2.985313  0.002833       NaN\n",
      "ZXDC     17.317768       -0.133120  0.099821 -1.333581  0.182341  0.701100\n",
      "ZYG11B   27.167553       -0.103216  0.095281 -1.083275  0.278686  0.784761\n",
      "ZZEF1    38.621339       -0.097607  0.139701 -0.698682  0.484751  0.884246\n",
      "\n",
      "[6122 rows x 6 columns]\n"
     ]
    },
    {
     "name": "stderr",
     "output_type": "stream",
     "text": [
      "... done in 0.60 seconds.\n",
      "\n"
     ]
    }
   ],
   "source": [
    "# Compute Wald test\n",
    "stat_res.summary()"
   ]
  },
  {
   "cell_type": "code",
   "execution_count": 36,
   "metadata": {},
   "outputs": [
    {
     "data": {
      "application/vnd.microsoft.datawrangler.viewer.v0+json": {
       "columns": [
        {
         "name": "index",
         "rawType": "object",
         "type": "string"
        },
        {
         "name": "baseMean",
         "rawType": "float64",
         "type": "float"
        },
        {
         "name": "log2FoldChange",
         "rawType": "float64",
         "type": "float"
        },
        {
         "name": "lfcSE",
         "rawType": "float64",
         "type": "float"
        },
        {
         "name": "stat",
         "rawType": "float64",
         "type": "float"
        },
        {
         "name": "pvalue",
         "rawType": "float64",
         "type": "float"
        },
        {
         "name": "padj",
         "rawType": "float64",
         "type": "float"
        }
       ],
       "conversionMethod": "pd.DataFrame",
       "ref": "642d451a-8af4-43b4-8cfe-8e649a1af740",
       "rows": [
        [
         "AACS",
         "14.304684153451838",
         "-0.022561871261859462",
         "0.105116714176744",
         "-0.21463638241130492",
         "0.8300508258814245",
         "0.9750775590870817"
        ],
        [
         "AAGAB",
         "16.056164073404258",
         "-0.0012935939948761025",
         "0.1153315625301392",
         "-0.011216305116286376",
         "0.991050870960464",
         "0.9973156705118047"
        ],
        [
         "AAK1",
         "114.83474308704504",
         "-0.10222936794080413",
         "0.07111612547010626",
         "-1.437499122245859",
         "0.1505762220539797",
         "0.6774640918277633"
        ],
        [
         "AARS",
         "18.34044670844654",
         "0.003247829014933906",
         "0.1472840778929093",
         "0.02205146042531096",
         "0.9824069060182752",
         "0.9952540609381335"
        ],
        [
         "AARSD1",
         "9.69454397045107",
         "0.12585883820672972",
         "0.14911857585849125",
         "0.8440185099820544",
         "0.3986590622625428",
         null
        ],
        [
         "AASDH",
         "10.142646223164995",
         "-0.12521876223065706",
         "0.13117073733515097",
         "-0.9546242155421739",
         "0.3397677667457497",
         null
        ],
        [
         "AASDHPPT",
         "14.020449453560028",
         "-0.06015462825709678",
         "0.14944951994577568",
         "-0.4025080059067604",
         "0.6873101976118181",
         "0.9423801545672994"
        ],
        [
         "AASS",
         "7.357933448662814",
         "0.007088753628348283",
         "0.1450954809752864",
         "0.04885578503685918",
         "0.9610342251844359",
         null
        ],
        [
         "AATF",
         "9.996718933035723",
         "-0.009585747858318694",
         "0.12288386906629896",
         "-0.07800655961725084",
         "0.937822835075037",
         null
        ],
        [
         "AATK",
         "20.389609569902554",
         "-0.09252851690307685",
         "0.15648412088418365",
         "-0.5912965250420434",
         "0.5543217575070296",
         "0.915357826497846"
        ],
        [
         "ABAT",
         "23.816887468483472",
         "-0.04085745434263931",
         "0.12446087747903888",
         "-0.3282754803775213",
         "0.7427033816801596",
         "0.9537447797532105"
        ],
        [
         "ABCA1",
         "12.463726922982488",
         "-0.49040280994068136",
         "0.22777145851427671",
         "-2.1530476783154238",
         "0.03131493163489751",
         "0.4402825858068923"
        ],
        [
         "ABCA10",
         "91.71943162563032",
         "-0.004053272076324473",
         "0.13926374184099571",
         "-0.02910500624744303",
         "0.976780843082711",
         "0.9950066502005199"
        ],
        [
         "ABCA2",
         "11.739118999592076",
         "-0.012317241499519588",
         "0.19964761914464396",
         "-0.061694908019893746",
         "0.9508057950580316",
         null
        ],
        [
         "ABCA3",
         "30.942602008924208",
         "0.03759657580550754",
         "0.1750169104888766",
         "0.21481681798912247",
         "0.8299101401293933",
         "0.9750775590870817"
        ],
        [
         "ABCA5",
         "131.99993238148653",
         "0.046312247702605586",
         "0.08872335952596316",
         "0.5219848295876715",
         "0.601680893164835",
         "0.9233792609153612"
        ],
        [
         "ABCA6",
         "52.76251760890927",
         "0.08041233983027626",
         "0.12225983624657219",
         "0.6577167310129682",
         "0.5107201693920886",
         "0.8987102216977275"
        ],
        [
         "ABCA7",
         "12.173919171965712",
         "-0.051706872322286095",
         "0.1920770147859845",
         "-0.2691986460738094",
         "0.787776822105405",
         "0.9627733078479876"
        ],
        [
         "ABCA9",
         "56.1197269630325",
         "0.018580518025236165",
         "0.12433965337076451",
         "0.14943356782434886",
         "0.8812115257924975",
         "0.9853825319581736"
        ],
        [
         "ABCB10",
         "9.98898914705031",
         "0.0245898474913241",
         "0.11032318686209458",
         "0.22288920571213855",
         "0.8236217376737445",
         null
        ],
        [
         "ABCB7",
         "11.683240718958645",
         "-0.04524180353844925",
         "0.1402336685702462",
         "-0.32261727158472375",
         "0.7469851117818304",
         null
        ],
        [
         "ABCB8",
         "8.057277067837239",
         "-0.08489293302537318",
         "0.13633583618939288",
         "-0.6226751190159787",
         "0.5334980362328845",
         null
        ],
        [
         "ABCB9",
         "17.75366275537726",
         "-0.07941959904064805",
         "0.13897163597197063",
         "-0.571480636931311",
         "0.5676738821459968",
         "0.9160642708114333"
        ],
        [
         "ABCC1",
         "25.04086160949059",
         "-0.16106995887135128",
         "0.15728912111535745",
         "-1.0240375032245297",
         "0.30581756138523786",
         "0.8049118215659461"
        ],
        [
         "ABCC4",
         "22.087012727261353",
         "-0.2709902697547741",
         "0.18868502364666992",
         "-1.436204445469018",
         "0.15094417444115565",
         "0.6774640918277633"
        ],
        [
         "ABCC5",
         "60.97555982214446",
         "-0.18885080877816565",
         "0.11411309363872212",
         "-1.6549442553547835",
         "0.09793580605692302",
         "0.6164709220547386"
        ],
        [
         "ABCC8",
         "8.290893283727248",
         "-0.2271428169152356",
         "0.15380625566304365",
         "-1.4768113035197772",
         "0.1397262257274662",
         null
        ],
        [
         "ABCD2",
         "20.266476680845795",
         "0.01906360781391326",
         "0.16499976239568018",
         "0.11553718343058875",
         "0.9080193496868182",
         "0.988452161001716"
        ],
        [
         "ABCD3",
         "21.357353146389947",
         "0.08960989709963671",
         "0.10425577975087585",
         "0.8595197054183836",
         "0.3900538530815232",
         "0.8481103600488408"
        ],
        [
         "ABCD4",
         "9.357044813441739",
         "-0.02004344492793022",
         "0.12799234402848836",
         "-0.15659878002913188",
         "0.8755610640778665",
         null
        ],
        [
         "ABCE1",
         "11.702868483543357",
         "-0.08866495729910719",
         "0.1255698302421015",
         "-0.7061007976849147",
         "0.4801254556943041",
         null
        ],
        [
         "ABCG1",
         "13.540516022599014",
         "0.020026777751308133",
         "0.16371610683812327",
         "0.12232625205967",
         "0.9026406419837244",
         "0.9884385344557387"
        ],
        [
         "ABHD12",
         "25.63266121341751",
         "0.041564548252455286",
         "0.10095247439490745",
         "0.41172391763140387",
         "0.6805417922304622",
         "0.9423801545672994"
        ],
        [
         "ABHD17B",
         "16.033647863960734",
         "0.08130644879589029",
         "0.14542264795132537",
         "0.559104444467993",
         "0.5760904417015806",
         "0.9180209761460844"
        ],
        [
         "ABHD18",
         "44.38767051999937",
         "0.20065984581353946",
         "0.11835931819942662",
         "1.6953447254185987",
         "0.09001004497947361",
         "0.5965942245881231"
        ],
        [
         "ABHD2",
         "81.86014833228663",
         "-0.06185677383969717",
         "0.10710918271890757",
         "-0.5775113978978932",
         "0.5635940412375113",
         "0.9160642708114333"
        ],
        [
         "ABHD3",
         "30.90578671396702",
         "-0.3180955253039606",
         "0.1265482613430894",
         "-2.5136301512792874",
         "0.01194956767502779",
         "0.3447176116720143"
        ],
        [
         "ABHD5",
         "11.723417501221878",
         "-0.12166155735318693",
         "0.11741379411424333",
         "-1.0361777189042247",
         "0.30011923947943464",
         null
        ],
        [
         "ABHD6",
         "12.23760330759614",
         "-0.17266299395405876",
         "0.12599183475909662",
         "-1.3704300305190413",
         "0.17055270311794635",
         "0.6874018786515739"
        ],
        [
         "ABI1",
         "23.986606482400216",
         "0.006396720906286552",
         "0.08645390967892067",
         "0.07398995522635353",
         "0.9410183779210953",
         "0.9911578337022876"
        ],
        [
         "ABI2",
         "52.043417786268904",
         "0.06463406800751659",
         "0.09315003013589544",
         "0.6938706075910306",
         "0.48776335778170665",
         "0.8843174763602948"
        ],
        [
         "ABL1",
         "31.799274766845205",
         "-0.2585020898926176",
         "0.13150689515818834",
         "-1.9656922899872893",
         "0.0493341659722391",
         "0.5019878537587628"
        ],
        [
         "ABL2",
         "31.576670393309843",
         "0.04635570290137363",
         "0.1266206988715983",
         "0.3660989341749042",
         "0.7142912527980414",
         "0.9457461604412546"
        ],
        [
         "ABLIM1",
         "93.38982787087066",
         "0.01648202135053911",
         "0.11021252538532084",
         "0.14954762440036007",
         "0.8811215330045007",
         "0.9853825319581736"
        ],
        [
         "ABLIM2",
         "40.82616794201418",
         "0.03758672729067514",
         "0.10726695895694548",
         "0.3504035879842701",
         "0.7260358340576482",
         "0.947880116686374"
        ],
        [
         "ABLIM3",
         "25.913352774322938",
         "-0.2257824108132646",
         "0.14560015102247797",
         "-1.550701762516771",
         "0.12097317195440539",
         "0.6475082468492306"
        ],
        [
         "ABO",
         "10.180590965954737",
         "-0.02063632016101619",
         "0.15223540737074023",
         "-0.13555532525203137",
         "0.8921728246422066",
         null
        ],
        [
         "ABR",
         "35.06440569052426",
         "-0.08106992683396018",
         "0.12464172205507197",
         "-0.6504236743306552",
         "0.5154185891026384",
         "0.8987102216977275"
        ],
        [
         "ABRAXAS2",
         "9.973925004191711",
         "-0.15789757854842937",
         "0.12085578078749876",
         "-1.306495870694521",
         "0.1913839823590182",
         null
        ],
        [
         "AC002069.2",
         "23.797591857605852",
         "0.15801728205816112",
         "0.18265027452550944",
         "0.8651357490080968",
         "0.3869642853628643",
         "0.8453527600225172"
        ]
       ],
       "shape": {
        "columns": 6,
        "rows": 6122
       }
      },
      "text/html": [
       "<div>\n",
       "<style scoped>\n",
       "    .dataframe tbody tr th:only-of-type {\n",
       "        vertical-align: middle;\n",
       "    }\n",
       "\n",
       "    .dataframe tbody tr th {\n",
       "        vertical-align: top;\n",
       "    }\n",
       "\n",
       "    .dataframe thead th {\n",
       "        text-align: right;\n",
       "    }\n",
       "</style>\n",
       "<table border=\"1\" class=\"dataframe\">\n",
       "  <thead>\n",
       "    <tr style=\"text-align: right;\">\n",
       "      <th></th>\n",
       "      <th>baseMean</th>\n",
       "      <th>log2FoldChange</th>\n",
       "      <th>lfcSE</th>\n",
       "      <th>stat</th>\n",
       "      <th>pvalue</th>\n",
       "      <th>padj</th>\n",
       "    </tr>\n",
       "  </thead>\n",
       "  <tbody>\n",
       "    <tr>\n",
       "      <th>AACS</th>\n",
       "      <td>14.304684</td>\n",
       "      <td>-0.022562</td>\n",
       "      <td>0.105117</td>\n",
       "      <td>-0.214636</td>\n",
       "      <td>0.830051</td>\n",
       "      <td>0.975078</td>\n",
       "    </tr>\n",
       "    <tr>\n",
       "      <th>AAGAB</th>\n",
       "      <td>16.056164</td>\n",
       "      <td>-0.001294</td>\n",
       "      <td>0.115332</td>\n",
       "      <td>-0.011216</td>\n",
       "      <td>0.991051</td>\n",
       "      <td>0.997316</td>\n",
       "    </tr>\n",
       "    <tr>\n",
       "      <th>AAK1</th>\n",
       "      <td>114.834743</td>\n",
       "      <td>-0.102229</td>\n",
       "      <td>0.071116</td>\n",
       "      <td>-1.437499</td>\n",
       "      <td>0.150576</td>\n",
       "      <td>0.677464</td>\n",
       "    </tr>\n",
       "    <tr>\n",
       "      <th>AARS</th>\n",
       "      <td>18.340447</td>\n",
       "      <td>0.003248</td>\n",
       "      <td>0.147284</td>\n",
       "      <td>0.022051</td>\n",
       "      <td>0.982407</td>\n",
       "      <td>0.995254</td>\n",
       "    </tr>\n",
       "    <tr>\n",
       "      <th>AARSD1</th>\n",
       "      <td>9.694544</td>\n",
       "      <td>0.125859</td>\n",
       "      <td>0.149119</td>\n",
       "      <td>0.844019</td>\n",
       "      <td>0.398659</td>\n",
       "      <td>NaN</td>\n",
       "    </tr>\n",
       "    <tr>\n",
       "      <th>...</th>\n",
       "      <td>...</td>\n",
       "      <td>...</td>\n",
       "      <td>...</td>\n",
       "      <td>...</td>\n",
       "      <td>...</td>\n",
       "      <td>...</td>\n",
       "    </tr>\n",
       "    <tr>\n",
       "      <th>ZUP1</th>\n",
       "      <td>7.818206</td>\n",
       "      <td>0.139048</td>\n",
       "      <td>0.132806</td>\n",
       "      <td>1.047001</td>\n",
       "      <td>0.295099</td>\n",
       "      <td>NaN</td>\n",
       "    </tr>\n",
       "    <tr>\n",
       "      <th>ZW10</th>\n",
       "      <td>8.821378</td>\n",
       "      <td>0.370893</td>\n",
       "      <td>0.124239</td>\n",
       "      <td>2.985313</td>\n",
       "      <td>0.002833</td>\n",
       "      <td>NaN</td>\n",
       "    </tr>\n",
       "    <tr>\n",
       "      <th>ZXDC</th>\n",
       "      <td>17.317768</td>\n",
       "      <td>-0.133120</td>\n",
       "      <td>0.099821</td>\n",
       "      <td>-1.333581</td>\n",
       "      <td>0.182341</td>\n",
       "      <td>0.701100</td>\n",
       "    </tr>\n",
       "    <tr>\n",
       "      <th>ZYG11B</th>\n",
       "      <td>27.167553</td>\n",
       "      <td>-0.103216</td>\n",
       "      <td>0.095281</td>\n",
       "      <td>-1.083275</td>\n",
       "      <td>0.278686</td>\n",
       "      <td>0.784761</td>\n",
       "    </tr>\n",
       "    <tr>\n",
       "      <th>ZZEF1</th>\n",
       "      <td>38.621339</td>\n",
       "      <td>-0.097607</td>\n",
       "      <td>0.139701</td>\n",
       "      <td>-0.698682</td>\n",
       "      <td>0.484751</td>\n",
       "      <td>0.884246</td>\n",
       "    </tr>\n",
       "  </tbody>\n",
       "</table>\n",
       "<p>6122 rows × 6 columns</p>\n",
       "</div>"
      ],
      "text/plain": [
       "          baseMean  log2FoldChange     lfcSE      stat    pvalue      padj\n",
       "AACS     14.304684       -0.022562  0.105117 -0.214636  0.830051  0.975078\n",
       "AAGAB    16.056164       -0.001294  0.115332 -0.011216  0.991051  0.997316\n",
       "AAK1    114.834743       -0.102229  0.071116 -1.437499  0.150576  0.677464\n",
       "AARS     18.340447        0.003248  0.147284  0.022051  0.982407  0.995254\n",
       "AARSD1    9.694544        0.125859  0.149119  0.844019  0.398659       NaN\n",
       "...            ...             ...       ...       ...       ...       ...\n",
       "ZUP1      7.818206        0.139048  0.132806  1.047001  0.295099       NaN\n",
       "ZW10      8.821378        0.370893  0.124239  2.985313  0.002833       NaN\n",
       "ZXDC     17.317768       -0.133120  0.099821 -1.333581  0.182341  0.701100\n",
       "ZYG11B   27.167553       -0.103216  0.095281 -1.083275  0.278686  0.784761\n",
       "ZZEF1    38.621339       -0.097607  0.139701 -0.698682  0.484751  0.884246\n",
       "\n",
       "[6122 rows x 6 columns]"
      ]
     },
     "execution_count": 36,
     "metadata": {},
     "output_type": "execute_result"
    }
   ],
   "source": [
    "# EXTRACT - results to DF\n",
    "DGE_results_df = stat_res.results_df\n",
    "DGE_results_df"
   ]
  },
  {
   "cell_type": "code",
   "execution_count": 37,
   "metadata": {},
   "outputs": [
    {
     "data": {
      "application/vnd.microsoft.datawrangler.viewer.v0+json": {
       "columns": [
        {
         "name": "index",
         "rawType": "object",
         "type": "string"
        },
        {
         "name": "baseMean",
         "rawType": "float64",
         "type": "float"
        },
        {
         "name": "log2FoldChange",
         "rawType": "float64",
         "type": "float"
        },
        {
         "name": "lfcSE",
         "rawType": "float64",
         "type": "float"
        },
        {
         "name": "stat",
         "rawType": "float64",
         "type": "float"
        },
        {
         "name": "pvalue",
         "rawType": "float64",
         "type": "float"
        },
        {
         "name": "padj",
         "rawType": "float64",
         "type": "float"
        },
        {
         "name": "-log10_padj",
         "rawType": "float64",
         "type": "float"
        }
       ],
       "conversionMethod": "pd.DataFrame",
       "ref": "1001dd48-cf31-4b53-85a8-1cffd3160023",
       "rows": [
        [
         "AACS",
         "14.304684153451838",
         "-0.022561871261859462",
         "0.105116714176744",
         "-0.21463638241130492",
         "0.8300508258814245",
         "0.9750775590870817",
         "0.010960838512859195"
        ],
        [
         "AAGAB",
         "16.056164073404258",
         "-0.0012935939948761025",
         "0.1153315625301392",
         "-0.011216305116286376",
         "0.991050870960464",
         "0.9973156705118047",
         "0.0011673569716082396"
        ],
        [
         "AAK1",
         "114.83474308704504",
         "-0.10222936794080413",
         "0.07111612547010626",
         "-1.437499122245859",
         "0.1505762220539797",
         "0.6774640918277633",
         "0.16911371910202908"
        ],
        [
         "AARS",
         "18.34044670844654",
         "0.003247829014933906",
         "0.1472840778929093",
         "0.02205146042531096",
         "0.9824069060182752",
         "0.9952540609381335",
         "0.0020660416871705143"
        ],
        [
         "AARSD1",
         "9.69454397045107",
         "0.12585883820672972",
         "0.14911857585849125",
         "0.8440185099820544",
         "0.3986590622625428",
         null,
         null
        ],
        [
         "AASDH",
         "10.142646223164995",
         "-0.12521876223065706",
         "0.13117073733515097",
         "-0.9546242155421739",
         "0.3397677667457497",
         null,
         null
        ],
        [
         "AASDHPPT",
         "14.020449453560028",
         "-0.06015462825709678",
         "0.14944951994577568",
         "-0.4025080059067604",
         "0.6873101976118181",
         "0.9423801545672994",
         "0.025773868198593675"
        ],
        [
         "AASS",
         "7.357933448662814",
         "0.007088753628348283",
         "0.1450954809752864",
         "0.04885578503685918",
         "0.9610342251844359",
         null,
         null
        ],
        [
         "AATF",
         "9.996718933035723",
         "-0.009585747858318694",
         "0.12288386906629896",
         "-0.07800655961725084",
         "0.937822835075037",
         null,
         null
        ],
        [
         "AATK",
         "20.389609569902554",
         "-0.09252851690307685",
         "0.15648412088418365",
         "-0.5912965250420434",
         "0.5543217575070296",
         "0.915357826497846",
         "0.038409100802310935"
        ],
        [
         "ABAT",
         "23.816887468483472",
         "-0.04085745434263931",
         "0.12446087747903888",
         "-0.3282754803775213",
         "0.7427033816801596",
         "0.9537447797532105",
         "0.02056782610713317"
        ],
        [
         "ABCA1",
         "12.463726922982488",
         "-0.49040280994068136",
         "0.22777145851427671",
         "-2.1530476783154238",
         "0.03131493163489751",
         "0.4402825858068923",
         "0.35626849155054996"
        ],
        [
         "ABCA10",
         "91.71943162563032",
         "-0.004053272076324473",
         "0.13926374184099571",
         "-0.02910500624744303",
         "0.976780843082711",
         "0.9950066502005199",
         "0.0021740166052918656"
        ],
        [
         "ABCA2",
         "11.739118999592076",
         "-0.012317241499519588",
         "0.19964761914464396",
         "-0.061694908019893746",
         "0.9508057950580316",
         null,
         null
        ],
        [
         "ABCA3",
         "30.942602008924208",
         "0.03759657580550754",
         "0.1750169104888766",
         "0.21481681798912247",
         "0.8299101401293933",
         "0.9750775590870817",
         "0.010960838512859195"
        ],
        [
         "ABCA5",
         "131.99993238148653",
         "0.046312247702605586",
         "0.08872335952596316",
         "0.5219848295876715",
         "0.601680893164835",
         "0.9233792609153612",
         "0.0346198839230244"
        ],
        [
         "ABCA6",
         "52.76251760890927",
         "0.08041233983027626",
         "0.12225983624657219",
         "0.6577167310129682",
         "0.5107201693920886",
         "0.8987102216977275",
         "0.04638031872810506"
        ],
        [
         "ABCA7",
         "12.173919171965712",
         "-0.051706872322286095",
         "0.1920770147859845",
         "-0.2691986460738094",
         "0.787776822105405",
         "0.9627733078479876",
         "0.01647595871173631"
        ],
        [
         "ABCA9",
         "56.1197269630325",
         "0.018580518025236165",
         "0.12433965337076451",
         "0.14943356782434886",
         "0.8812115257924975",
         "0.9853825319581736",
         "0.006395140804174481"
        ],
        [
         "ABCB10",
         "9.98898914705031",
         "0.0245898474913241",
         "0.11032318686209458",
         "0.22288920571213855",
         "0.8236217376737445",
         null,
         null
        ],
        [
         "ABCB7",
         "11.683240718958645",
         "-0.04524180353844925",
         "0.1402336685702462",
         "-0.32261727158472375",
         "0.7469851117818304",
         null,
         null
        ],
        [
         "ABCB8",
         "8.057277067837239",
         "-0.08489293302537318",
         "0.13633583618939288",
         "-0.6226751190159787",
         "0.5334980362328845",
         null,
         null
        ],
        [
         "ABCB9",
         "17.75366275537726",
         "-0.07941959904064805",
         "0.13897163597197063",
         "-0.571480636931311",
         "0.5676738821459968",
         "0.9160642708114333",
         "0.038074055284589695"
        ],
        [
         "ABCC1",
         "25.04086160949059",
         "-0.16106995887135128",
         "0.15728912111535745",
         "-1.0240375032245297",
         "0.30581756138523786",
         "0.8049118215659461",
         "0.09425169417237374"
        ],
        [
         "ABCC4",
         "22.087012727261353",
         "-0.2709902697547741",
         "0.18868502364666992",
         "-1.436204445469018",
         "0.15094417444115565",
         "0.6774640918277633",
         "0.16911371910202908"
        ],
        [
         "ABCC5",
         "60.97555982214446",
         "-0.18885080877816565",
         "0.11411309363872212",
         "-1.6549442553547835",
         "0.09793580605692302",
         "0.6164709220547386",
         "0.21008740355973032"
        ],
        [
         "ABCC8",
         "8.290893283727248",
         "-0.2271428169152356",
         "0.15380625566304365",
         "-1.4768113035197772",
         "0.1397262257274662",
         null,
         null
        ],
        [
         "ABCD2",
         "20.266476680845795",
         "0.01906360781391326",
         "0.16499976239568018",
         "0.11553718343058875",
         "0.9080193496868182",
         "0.988452161001716",
         "0.005044344777955691"
        ],
        [
         "ABCD3",
         "21.357353146389947",
         "0.08960989709963671",
         "0.10425577975087585",
         "0.8595197054183836",
         "0.3900538530815232",
         "0.8481103600488408",
         "0.07154763165632544"
        ],
        [
         "ABCD4",
         "9.357044813441739",
         "-0.02004344492793022",
         "0.12799234402848836",
         "-0.15659878002913188",
         "0.8755610640778665",
         null,
         null
        ],
        [
         "ABCE1",
         "11.702868483543357",
         "-0.08866495729910719",
         "0.1255698302421015",
         "-0.7061007976849147",
         "0.4801254556943041",
         null,
         null
        ],
        [
         "ABCG1",
         "13.540516022599014",
         "0.020026777751308133",
         "0.16371610683812327",
         "0.12232625205967",
         "0.9026406419837244",
         "0.9884385344557387",
         "0.005050331890686824"
        ],
        [
         "ABHD12",
         "25.63266121341751",
         "0.041564548252455286",
         "0.10095247439490745",
         "0.41172391763140387",
         "0.6805417922304622",
         "0.9423801545672994",
         "0.025773868198593675"
        ],
        [
         "ABHD17B",
         "16.033647863960734",
         "0.08130644879589029",
         "0.14542264795132537",
         "0.559104444467993",
         "0.5760904417015806",
         "0.9180209761460844",
         "0.037147395356035735"
        ],
        [
         "ABHD18",
         "44.38767051999937",
         "0.20065984581353946",
         "0.11835931819942662",
         "1.6953447254185987",
         "0.09001004497947361",
         "0.5965942245881231",
         "0.2243209552006565"
        ],
        [
         "ABHD2",
         "81.86014833228663",
         "-0.06185677383969717",
         "0.10710918271890757",
         "-0.5775113978978932",
         "0.5635940412375113",
         "0.9160642708114333",
         "0.038074055284589695"
        ],
        [
         "ABHD3",
         "30.90578671396702",
         "-0.3180955253039606",
         "0.1265482613430894",
         "-2.5136301512792874",
         "0.01194956767502779",
         "0.3447176116720143",
         "0.4625365278581266"
        ],
        [
         "ABHD5",
         "11.723417501221878",
         "-0.12166155735318693",
         "0.11741379411424333",
         "-1.0361777189042247",
         "0.30011923947943464",
         null,
         null
        ],
        [
         "ABHD6",
         "12.23760330759614",
         "-0.17266299395405876",
         "0.12599183475909662",
         "-1.3704300305190413",
         "0.17055270311794635",
         "0.6874018786515739",
         "0.16278928528157346"
        ],
        [
         "ABI1",
         "23.986606482400216",
         "0.006396720906286552",
         "0.08645390967892067",
         "0.07398995522635353",
         "0.9410183779210953",
         "0.9911578337022876",
         "0.003857182196908846"
        ],
        [
         "ABI2",
         "52.043417786268904",
         "0.06463406800751659",
         "0.09315003013589544",
         "0.6938706075910306",
         "0.48776335778170665",
         "0.8843174763602948",
         "0.053391792137596525"
        ],
        [
         "ABL1",
         "31.799274766845205",
         "-0.2585020898926176",
         "0.13150689515818834",
         "-1.9656922899872893",
         "0.0493341659722391",
         "0.5019878537587628",
         "0.2993067910409626"
        ],
        [
         "ABL2",
         "31.576670393309843",
         "0.04635570290137363",
         "0.1266206988715983",
         "0.3660989341749042",
         "0.7142912527980414",
         "0.9457461604412546",
         "0.024225413188864585"
        ],
        [
         "ABLIM1",
         "93.38982787087066",
         "0.01648202135053911",
         "0.11021252538532084",
         "0.14954762440036007",
         "0.8811215330045007",
         "0.9853825319581736",
         "0.006395140804174481"
        ],
        [
         "ABLIM2",
         "40.82616794201418",
         "0.03758672729067514",
         "0.10726695895694548",
         "0.3504035879842701",
         "0.7260358340576482",
         "0.947880116686374",
         "0.02324658666392229"
        ],
        [
         "ABLIM3",
         "25.913352774322938",
         "-0.2257824108132646",
         "0.14560015102247797",
         "-1.550701762516771",
         "0.12097317195440539",
         "0.6475082468492306",
         "0.18875469591341953"
        ],
        [
         "ABO",
         "10.180590965954737",
         "-0.02063632016101619",
         "0.15223540737074023",
         "-0.13555532525203137",
         "0.8921728246422066",
         null,
         null
        ],
        [
         "ABR",
         "35.06440569052426",
         "-0.08106992683396018",
         "0.12464172205507197",
         "-0.6504236743306552",
         "0.5154185891026384",
         "0.8987102216977275",
         "0.04638031872810506"
        ],
        [
         "ABRAXAS2",
         "9.973925004191711",
         "-0.15789757854842937",
         "0.12085578078749876",
         "-1.306495870694521",
         "0.1913839823590182",
         null,
         null
        ],
        [
         "AC002069.2",
         "23.797591857605852",
         "0.15801728205816112",
         "0.18265027452550944",
         "0.8651357490080968",
         "0.3869642853628643",
         "0.8453527600225172",
         "0.07296202506008047"
        ]
       ],
       "shape": {
        "columns": 7,
        "rows": 6122
       }
      },
      "text/html": [
       "<div>\n",
       "<style scoped>\n",
       "    .dataframe tbody tr th:only-of-type {\n",
       "        vertical-align: middle;\n",
       "    }\n",
       "\n",
       "    .dataframe tbody tr th {\n",
       "        vertical-align: top;\n",
       "    }\n",
       "\n",
       "    .dataframe thead th {\n",
       "        text-align: right;\n",
       "    }\n",
       "</style>\n",
       "<table border=\"1\" class=\"dataframe\">\n",
       "  <thead>\n",
       "    <tr style=\"text-align: right;\">\n",
       "      <th></th>\n",
       "      <th>baseMean</th>\n",
       "      <th>log2FoldChange</th>\n",
       "      <th>lfcSE</th>\n",
       "      <th>stat</th>\n",
       "      <th>pvalue</th>\n",
       "      <th>padj</th>\n",
       "      <th>-log10_padj</th>\n",
       "    </tr>\n",
       "  </thead>\n",
       "  <tbody>\n",
       "    <tr>\n",
       "      <th>AACS</th>\n",
       "      <td>14.304684</td>\n",
       "      <td>-0.022562</td>\n",
       "      <td>0.105117</td>\n",
       "      <td>-0.214636</td>\n",
       "      <td>0.830051</td>\n",
       "      <td>0.975078</td>\n",
       "      <td>0.010961</td>\n",
       "    </tr>\n",
       "    <tr>\n",
       "      <th>AAGAB</th>\n",
       "      <td>16.056164</td>\n",
       "      <td>-0.001294</td>\n",
       "      <td>0.115332</td>\n",
       "      <td>-0.011216</td>\n",
       "      <td>0.991051</td>\n",
       "      <td>0.997316</td>\n",
       "      <td>0.001167</td>\n",
       "    </tr>\n",
       "    <tr>\n",
       "      <th>AAK1</th>\n",
       "      <td>114.834743</td>\n",
       "      <td>-0.102229</td>\n",
       "      <td>0.071116</td>\n",
       "      <td>-1.437499</td>\n",
       "      <td>0.150576</td>\n",
       "      <td>0.677464</td>\n",
       "      <td>0.169114</td>\n",
       "    </tr>\n",
       "    <tr>\n",
       "      <th>AARS</th>\n",
       "      <td>18.340447</td>\n",
       "      <td>0.003248</td>\n",
       "      <td>0.147284</td>\n",
       "      <td>0.022051</td>\n",
       "      <td>0.982407</td>\n",
       "      <td>0.995254</td>\n",
       "      <td>0.002066</td>\n",
       "    </tr>\n",
       "    <tr>\n",
       "      <th>AARSD1</th>\n",
       "      <td>9.694544</td>\n",
       "      <td>0.125859</td>\n",
       "      <td>0.149119</td>\n",
       "      <td>0.844019</td>\n",
       "      <td>0.398659</td>\n",
       "      <td>NaN</td>\n",
       "      <td>NaN</td>\n",
       "    </tr>\n",
       "    <tr>\n",
       "      <th>...</th>\n",
       "      <td>...</td>\n",
       "      <td>...</td>\n",
       "      <td>...</td>\n",
       "      <td>...</td>\n",
       "      <td>...</td>\n",
       "      <td>...</td>\n",
       "      <td>...</td>\n",
       "    </tr>\n",
       "    <tr>\n",
       "      <th>ZUP1</th>\n",
       "      <td>7.818206</td>\n",
       "      <td>0.139048</td>\n",
       "      <td>0.132806</td>\n",
       "      <td>1.047001</td>\n",
       "      <td>0.295099</td>\n",
       "      <td>NaN</td>\n",
       "      <td>NaN</td>\n",
       "    </tr>\n",
       "    <tr>\n",
       "      <th>ZW10</th>\n",
       "      <td>8.821378</td>\n",
       "      <td>0.370893</td>\n",
       "      <td>0.124239</td>\n",
       "      <td>2.985313</td>\n",
       "      <td>0.002833</td>\n",
       "      <td>NaN</td>\n",
       "      <td>NaN</td>\n",
       "    </tr>\n",
       "    <tr>\n",
       "      <th>ZXDC</th>\n",
       "      <td>17.317768</td>\n",
       "      <td>-0.133120</td>\n",
       "      <td>0.099821</td>\n",
       "      <td>-1.333581</td>\n",
       "      <td>0.182341</td>\n",
       "      <td>0.701100</td>\n",
       "      <td>0.154220</td>\n",
       "    </tr>\n",
       "    <tr>\n",
       "      <th>ZYG11B</th>\n",
       "      <td>27.167553</td>\n",
       "      <td>-0.103216</td>\n",
       "      <td>0.095281</td>\n",
       "      <td>-1.083275</td>\n",
       "      <td>0.278686</td>\n",
       "      <td>0.784761</td>\n",
       "      <td>0.105262</td>\n",
       "    </tr>\n",
       "    <tr>\n",
       "      <th>ZZEF1</th>\n",
       "      <td>38.621339</td>\n",
       "      <td>-0.097607</td>\n",
       "      <td>0.139701</td>\n",
       "      <td>-0.698682</td>\n",
       "      <td>0.484751</td>\n",
       "      <td>0.884246</td>\n",
       "      <td>0.053427</td>\n",
       "    </tr>\n",
       "  </tbody>\n",
       "</table>\n",
       "<p>6122 rows × 7 columns</p>\n",
       "</div>"
      ],
      "text/plain": [
       "          baseMean  log2FoldChange     lfcSE      stat    pvalue      padj  \\\n",
       "AACS     14.304684       -0.022562  0.105117 -0.214636  0.830051  0.975078   \n",
       "AAGAB    16.056164       -0.001294  0.115332 -0.011216  0.991051  0.997316   \n",
       "AAK1    114.834743       -0.102229  0.071116 -1.437499  0.150576  0.677464   \n",
       "AARS     18.340447        0.003248  0.147284  0.022051  0.982407  0.995254   \n",
       "AARSD1    9.694544        0.125859  0.149119  0.844019  0.398659       NaN   \n",
       "...            ...             ...       ...       ...       ...       ...   \n",
       "ZUP1      7.818206        0.139048  0.132806  1.047001  0.295099       NaN   \n",
       "ZW10      8.821378        0.370893  0.124239  2.985313  0.002833       NaN   \n",
       "ZXDC     17.317768       -0.133120  0.099821 -1.333581  0.182341  0.701100   \n",
       "ZYG11B   27.167553       -0.103216  0.095281 -1.083275  0.278686  0.784761   \n",
       "ZZEF1    38.621339       -0.097607  0.139701 -0.698682  0.484751  0.884246   \n",
       "\n",
       "        -log10_padj  \n",
       "AACS       0.010961  \n",
       "AAGAB      0.001167  \n",
       "AAK1       0.169114  \n",
       "AARS       0.002066  \n",
       "AARSD1          NaN  \n",
       "...             ...  \n",
       "ZUP1            NaN  \n",
       "ZW10            NaN  \n",
       "ZXDC       0.154220  \n",
       "ZYG11B     0.105262  \n",
       "ZZEF1      0.053427  \n",
       "\n",
       "[6122 rows x 7 columns]"
      ]
     },
     "execution_count": 37,
     "metadata": {},
     "output_type": "execute_result"
    }
   ],
   "source": [
    "#? Q) What is this doing?\n",
    "# - Creating a new col based on the negative log 10 of padj???\n",
    "# NOTE: negative log₁₀ values represent increasingly smaller decimal numbers. Each decrease by 1 in the negative log₁₀ represents dividing by 10\n",
    "DGE_results_df['-log10_padj'] = -np.log10(DGE_results_df['padj'])\n",
    "DGE_results_df"
   ]
  },
  {
   "cell_type": "code",
   "execution_count": 38,
   "metadata": {},
   "outputs": [],
   "source": [
    "# # EXTRACT - only genes that passed the sig threshold\n",
    "\n",
    "# # Filter rows based on column: '-log10_padj'\n",
    "# DGE_results_df_pval = DGE_results_df[DGE_results_df['-log10_padj'] > 2]\n",
    "\n",
    "# # Filter rows based on column: 'log2FoldChange'\n",
    "# DGE_results_df_pval_l2fc = DGE_results_df_pval[DGE_results_df_pval['log2FoldChange'] > 1]\n",
    "\n",
    "# # Order by column: '-log10_padj' (descending)\n",
    "# DGE_results_df_pval_l2fc_sorted = DGE_results_df_pval_l2fc.sort_values(['-log10_padj'], ascending=[False])\n",
    "# DGE_results_df_pval_l2fc_sorted"
   ]
  },
  {
   "cell_type": "code",
   "execution_count": 39,
   "metadata": {},
   "outputs": [
    {
     "data": {
      "application/vnd.microsoft.datawrangler.viewer.v0+json": {
       "columns": [
        {
         "name": "index",
         "rawType": "object",
         "type": "string"
        },
        {
         "name": "baseMean",
         "rawType": "float64",
         "type": "float"
        },
        {
         "name": "log2FoldChange",
         "rawType": "float64",
         "type": "float"
        },
        {
         "name": "lfcSE",
         "rawType": "float64",
         "type": "float"
        },
        {
         "name": "stat",
         "rawType": "float64",
         "type": "float"
        },
        {
         "name": "pvalue",
         "rawType": "float64",
         "type": "float"
        },
        {
         "name": "padj",
         "rawType": "float64",
         "type": "float"
        },
        {
         "name": "-log10_padj",
         "rawType": "float64",
         "type": "float"
        }
       ],
       "conversionMethod": "pd.DataFrame",
       "ref": "e9fc0f93-f27f-4d09-be05-52a828010ce2",
       "rows": [
        [
         "LINC02150",
         "13.06490674802008",
         "1.4110991345945754",
         "0.27301285514942236",
         "5.16861791662619",
         "2.3583147468194463e-07",
         "0.0011638283275553966",
         "2.9341110762960088"
        ]
       ],
       "shape": {
        "columns": 7,
        "rows": 1
       }
      },
      "text/html": [
       "<div>\n",
       "<style scoped>\n",
       "    .dataframe tbody tr th:only-of-type {\n",
       "        vertical-align: middle;\n",
       "    }\n",
       "\n",
       "    .dataframe tbody tr th {\n",
       "        vertical-align: top;\n",
       "    }\n",
       "\n",
       "    .dataframe thead th {\n",
       "        text-align: right;\n",
       "    }\n",
       "</style>\n",
       "<table border=\"1\" class=\"dataframe\">\n",
       "  <thead>\n",
       "    <tr style=\"text-align: right;\">\n",
       "      <th></th>\n",
       "      <th>baseMean</th>\n",
       "      <th>log2FoldChange</th>\n",
       "      <th>lfcSE</th>\n",
       "      <th>stat</th>\n",
       "      <th>pvalue</th>\n",
       "      <th>padj</th>\n",
       "      <th>-log10_padj</th>\n",
       "    </tr>\n",
       "  </thead>\n",
       "  <tbody>\n",
       "    <tr>\n",
       "      <th>LINC02150</th>\n",
       "      <td>13.064907</td>\n",
       "      <td>1.411099</td>\n",
       "      <td>0.273013</td>\n",
       "      <td>5.168618</td>\n",
       "      <td>2.358315e-07</td>\n",
       "      <td>0.001164</td>\n",
       "      <td>2.934111</td>\n",
       "    </tr>\n",
       "  </tbody>\n",
       "</table>\n",
       "</div>"
      ],
      "text/plain": [
       "            baseMean  log2FoldChange     lfcSE      stat        pvalue  \\\n",
       "LINC02150  13.064907        1.411099  0.273013  5.168618  2.358315e-07   \n",
       "\n",
       "               padj  -log10_padj  \n",
       "LINC02150  0.001164     2.934111  "
      ]
     },
     "execution_count": 39,
     "metadata": {},
     "output_type": "execute_result"
    }
   ],
   "source": [
    "# EXTRACT - only genes that passed the sig threshold\n",
    "# SUMMARY: Filter and sort DGE results\n",
    "# Filter rows based on column: '-log10_padj'\n",
    "# Filter rows based on column: 'log2FoldChange'\n",
    "# Order by column: '-log10_padj' (descending)\n",
    "DGE_results_df_pval_l2fc_sorted = (\n",
    "    DGE_results_df[(DGE_results_df['-log10_padj'] > 2) & \n",
    "                   (DGE_results_df['log2FoldChange'] > 1)]\n",
    "    .sort_values(['-log10_padj'], ascending=[False])\n",
    ")\n",
    "DGE_results_df_pval_l2fc_sorted"
   ]
  },
  {
   "cell_type": "markdown",
   "metadata": {},
   "source": [
    "# EXPORT - results"
   ]
  },
  {
   "cell_type": "markdown",
   "metadata": {},
   "source": [
    "### .CSV version"
   ]
  },
  {
   "cell_type": "code",
   "execution_count": null,
   "metadata": {},
   "outputs": [
    {
     "name": "stdout",
     "output_type": "stream",
     "text": [
      "Created file at: output/DGE_results_df-DaN.csv\n"
     ]
    }
   ],
   "source": [
    "# # # DGE_results_df.to_csv(snakemake.output.output_figure)\n",
    "# output_path = os.path.join(f'output/DGE_results_df-{selected_cell_type}.csv')\n",
    "# DGE_results_df.to_csv(output_path)\n",
    "# print(f'Created file at: {output_path}')"
   ]
  },
  {
   "cell_type": "code",
   "execution_count": null,
   "metadata": {},
   "outputs": [
    {
     "name": "stdout",
     "output_type": "stream",
     "text": [
      "Created file at: output/DGE_results_df-DaN-pval_l2fc_sorted.csv\n"
     ]
    }
   ],
   "source": [
    "# # EXPORT - DF of results passing thresholds to CSV\n",
    "# output_path = f'output/DGE_results_df-{selected_cell_type}-pval_l2fc_sorted.csv'\n",
    "# DGE_results_df_pval_l2fc_sorted.to_csv(output_path, index=False)\n",
    "# print(f'Created file at: {output_path}')"
   ]
  },
  {
   "cell_type": "markdown",
   "metadata": {},
   "source": [
    "#* TODO - rerun as .TSV eventually\n",
    "\n",
    "### .TSV version"
   ]
  },
  {
   "cell_type": "code",
   "execution_count": null,
   "metadata": {},
   "outputs": [
    {
     "name": "stdout",
     "output_type": "stream",
     "text": [
      "Created file at: output/DGE_results_df-DaN.csv\n"
     ]
    }
   ],
   "source": [
    "# # DGE_results_df.to_csv(snakemake.output.output_figure)\n",
    "output_path = os.path.join(f'output/DGE_results_df-{selected_cell_type}.tsv')\n",
    "DGE_results_df.to_csv(output_path, sep='\\t')\n",
    "print(f'Created file at: {output_path}')"
   ]
  },
  {
   "cell_type": "code",
   "execution_count": null,
   "metadata": {},
   "outputs": [
    {
     "name": "stdout",
     "output_type": "stream",
     "text": [
      "Created file at: output/DGE_results_df-DaN-pval_l2fc_sorted.csv\n"
     ]
    }
   ],
   "source": [
    "# EXPORT - DF of results passing thresholds to CSV\n",
    "output_path = f'output/DGE_results_df-{selected_cell_type}-pval_l2fc_sorted.tsv'\n",
    "DGE_results_df_pval_l2fc_sorted.to_csv(output_path, sep='\\t')\n",
    "print(f'Created file at: {output_path}')"
   ]
  },
  {
   "cell_type": "code",
   "execution_count": 42,
   "metadata": {},
   "outputs": [
    {
     "name": "stdout",
     "output_type": "stream",
     "text": [
      "index_list = ['LINC02150']\n"
     ]
    }
   ],
   "source": [
    "# EXTRACT - ONLY the index column as a list\n",
    "index_list = DGE_results_df_pval_l2fc_sorted.index.tolist()\n",
    "print('index_list =', index_list)"
   ]
  },
  {
   "cell_type": "markdown",
   "metadata": {},
   "source": [
    "#* TODO - check up lists on Web Gestalt "
   ]
  },
  {
   "cell_type": "markdown",
   "metadata": {},
   "source": [
    "# PLOT(S)"
   ]
  },
  {
   "cell_type": "code",
   "execution_count": null,
   "metadata": {},
   "outputs": [
    {
     "data": {
      "image/png": "[encoded data removed]",
      "text/plain": [
       "<Figure size 1200x1800 with 1 Axes>"
      ]
     },
     "metadata": {},
     "output_type": "display_data"
    }
   ],
   "source": [
    "# PLOT - volcano plot \n",
    "output_path = f'output/volcano_plot-{selected_cell_type}.png'\n",
    "\n",
    "dc.plot_volcano_df(\n",
    "    DGE_results_df,\n",
    "    x           = 'log2FoldChange',\n",
    "    y           = 'padj',   # Pvals = significance?\n",
    "    top         = 20,       # Top N hits to label\n",
    "    lFCs_thr    = 1,        # Log2 fold change threshold = magnitude?\n",
    "    sign_thr    = 1e-2,     # Significance threshold\n",
    "    figsize     = (4, 6),\n",
    "    dpi         = 300,\n",
    "    save        = output_path\n",
    ")\n",
    "print(f'Created file at: {output_path}')"
   ]
  },
  {
   "cell_type": "markdown",
   "metadata": {},
   "source": [
    "#* TODO - run the other celltypes by making a separate JNB for each so we can explore the results"
   ]
  }
 ],
 "metadata": {
  "kernelspec": {
   "display_name": "base",
   "language": "python",
   "name": "python3"
  },
  "language_info": {
   "codemirror_mode": {
    "name": "ipython",
    "version": 3
   },
   "file_extension": ".py",
   "mimetype": "text/x-python",
   "name": "python",
   "nbconvert_exporter": "python",
   "pygments_lexer": "ipython3",
   "version": "3.10.13"
  }
 },
 "nbformat": 4,
 "nbformat_minor": 2
}
