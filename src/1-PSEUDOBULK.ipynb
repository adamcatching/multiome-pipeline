{
 "cells": [
  {
   "cell_type": "markdown",
   "metadata": {},
   "source": [
    "STARTED:      2/26/25\n",
    "\n",
    "LAST UPDATED: 2/26/25\n",
    "\n",
    "By Eugene Fong\n",
    "\n",
    "# GOAL(S)\n",
    "\n",
    "- Pseudobulk on the SN data\n",
    "\n",
    "# #* TODO\n",
    "\n",
    "XYLENA: \n",
    "- pseudobulk each category (young/old) then run w/the tools Adam used\n",
    "- avg's expression of each cell type in each sample\n",
    "- should have a tool in scanpy\n",
    "- also in Adam's pipeline\n",
    "\n",
    "ADAM\n",
    "- break up the adata obj into indiv clusters by cell type for the trajectory analysis\n",
    "- redo the DGE by cell type, \n",
    "- use the leiden_2 cluster\n",
    "\n",
    "Pseudo-bulking = collapsing into counts the mean expression for that sample\n",
    "- sum is better for genes that are lowly expressed by highly variable betw samples\n",
    "- mean is better for genes that are highly expressed genes\n",
    "\n",
    "Lit review on pseudotime and trajectory analysis tools, run by some suggestions by Xylena before starting on one\n",
    "\n",
    "# IMPORTS"
   ]
  },
  {
   "cell_type": "code",
   "execution_count": null,
   "metadata": {},
   "outputs": [],
   "source": [
    "import numpy as np\n",
    "import os\n",
    "import pandas as pd\n",
    "import anndata as ad\n",
    "import scanpy as sc\n",
    "import matplotlib.pyplot as plt\n",
    "import seaborn as sns\n",
    "import pprint"
   ]
  },
  {
   "cell_type": "markdown",
   "metadata": {},
   "source": [
    "# LOAD DATA\n",
    "\n",
    "### DEFINE PATHS"
   ]
  },
  {
   "cell_type": "code",
   "execution_count": 2,
   "metadata": {},
   "outputs": [],
   "source": [
    "input_file = os.path.join('/data/CARD_singlecell/Brain_atlas/SN_Multiome/control_atlas/05_annotated_anndata_rna.h5ad')"
   ]
  },
  {
   "cell_type": "code",
   "execution_count": null,
   "metadata": {},
   "outputs": [
    {
     "name": "stdout",
     "output_type": "stream",
     "text": [
      "output_file = output/05_annotated_anndata_rna-ef-rank_genes_groups.h5ad\n"
     ]
    }
   ],
   "source": [
    "# # Define output file path for my testing, base on the original file name\n",
    "# output_file = os.path.join('output', os.path.basename(input_file).replace('.h5ad', '-ef-rank_genes_groups.h5ad'))\n",
    "# print('output_file =', output_file)"
   ]
  },
  {
   "cell_type": "code",
   "execution_count": null,
   "metadata": {},
   "outputs": [],
   "source": [
    "# # SAVE - AnnData object\n",
    "# adata.write_h5ad(\n",
    "#     filename = output_file, \n",
    "#     compression = 'gzip'\n",
    "#     )"
   ]
  },
  {
   "cell_type": "code",
   "execution_count": 5,
   "metadata": {},
   "outputs": [
    {
     "data": {
      "text/plain": [
       "AnnData object with n_obs × n_vars = 477356 × 35633\n",
       "    obs: 'n_genes_by_counts', 'total_counts', 'total_counts_rb', 'pct_counts_rb', 'total_counts_mt', 'pct_counts_mt', 'doublet_score', 'cell_barcode', 'batch', 'sex', 'age', 'pmi', 'ethnicity', 'race', 'brain_bank', 'homogenization', 'library', 'seq', 'sample', 'short diagnosis', 'S_score', 'G2M_score', 'phase', 'n_counts', 'atlas_identifier', 'leiden_2', 'leiden', 'leiden_05', 'cell_type', 'age_old', 'age_bin', 'log1p_n_genes_by_counts', 'log1p_total_counts', 'pct_counts_in_top_50_genes', 'pct_counts_in_top_100_genes', 'pct_counts_in_top_200_genes', 'pct_counts_in_top_500_genes', 'log1p_total_counts_mt', 'total_counts_ribo', 'log1p_total_counts_ribo', 'pct_counts_ribo'\n",
       "    var: 'n_cells', 'highly_variable', 'means', 'dispersions', 'dispersions_norm', 'highly_variable_nbatches', 'highly_variable_intersection', 'mt', 'rb', 'ribo', 'n_cells_by_counts', 'mean_counts', 'log1p_mean_counts', 'pct_dropout_by_counts', 'total_counts', 'log1p_total_counts'\n",
       "    uns: 'age_bin_colors', 'age_old_colors', 'cell_type_colors', 'hvg', 'leiden', 'neighbors', 'rank_genes_groups', 'umap'\n",
       "    obsm: 'X_pca', 'X_scvi', 'X_umap', 'ora_estimate', 'ora_pvals'\n",
       "    layers: 'counts', 'cpm', 'data'\n",
       "    obsp: 'connectivities', 'distances'"
      ]
     },
     "execution_count": 5,
     "metadata": {},
     "output_type": "execute_result"
    }
   ],
   "source": [
    "# RELOAD - my saved AnnData object\n",
    "adata = sc.read_h5ad(output_file)\n",
    "adata"
   ]
  },
  {
   "cell_type": "markdown",
   "metadata": {},
   "source": [
    "# DGE\n",
    "\n",
    "### REF: [https://www.sc-best-practices.org/conditions/differential_gene_expression.html](https://www.sc-best-practices.org/conditions/differential_gene_expression.html)"
   ]
  },
  {
   "cell_type": "markdown",
   "metadata": {},
   "source": [
    "# IMPORTS"
   ]
  },
  {
   "cell_type": "markdown",
   "metadata": {},
   "source": [
    "#* TODO\n",
    "\n",
    "- run Adam's updated rna_DGE.py script in JNB (copy and paste?)\n",
    "- will need to edit some of the variables\n",
    "- read up on DESEQ2 and Decouplr\n",
    "\n",
    "Can figure out how ot pull GH properly laterrrr"
   ]
  }
 ],
 "metadata": {
  "kernelspec": {
   "display_name": "base",
   "language": "python",
   "name": "python3"
  },
  "language_info": {
   "codemirror_mode": {
    "name": "ipython",
    "version": 3
   },
   "file_extension": ".py",
   "mimetype": "text/x-python",
   "name": "python",
   "nbconvert_exporter": "python",
   "pygments_lexer": "ipython3",
   "version": "3.10.13"
  }
 },
 "nbformat": 4,
 "nbformat_minor": 2
}
